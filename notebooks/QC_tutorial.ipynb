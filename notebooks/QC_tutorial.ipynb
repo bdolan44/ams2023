{
 "cells": [
  {
   "cell_type": "markdown",
   "id": "de6e774d-3552-4954-97b3-b5ebaf9e5c26",
   "metadata": {},
   "source": [
    "# QC Tutorial\n",
    "\n",
    "---\n",
    "\n",
    "This interactive tutorial will show you a couple ways to quality control data using LROSE using RadxPid and RadxQc. RadxPid allows users to censor non-weather echoes using the PID algorithm and RadxQc \n",
    "\n",
    "RadxPid is one of three 'Echo' applications in LROSE. A visual comparison of RadxPid with RadxKdp and RadxRate and their parameter files is shown below. Each application has its own main parameter file that defines variable names and specifies the paths to the parameter file for each relevant sub-process. For example, the main RadxPid parameter file links to the KDP and PID parameter files (the PID parameter file links to the PID thresholds file).\n",
    "\n",
    "<div>\n",
    "<img src=\"../images/radx_echo_description.png\" width=\"600\"/>\n",
    "</div>\n",
    "\n",
    "---\n",
    "\n",
    "*Note: this tutorial shows two examples of how to quality control radar data. Other workflows exist!*\n",
    "\n",
    "---\n",
    "\n",
    "## Tutorial Overview\n",
    "### 1. Setup\n",
    "\n",
    "#### Directory organization\n",
    "\n",
    "The structure of the echo tutorial on JupyterHub is shown in the diagram below. The parent or base directory is \"ams2023\" and contains all of the notebooks, parameter files, and data for the workshop.\n",
    "\n",
    "<div>\n",
    "<img src=\"../images/RadxRate_structure.png\" width=\"500\"/>\n",
    "</div>\n",
    "\n",
    "#### Download raw data and parameter files\n",
    "\n",
    "CfRadial data file that will be downloaded:\n",
    "* cfrad.20210815_032510.928_to_20210815_032947.216_CSU-CHILL_SUR.nc\n",
    "\n",
    "Parameter files (included in this tutorial):\n",
    "\n",
    "*Note: The parameter files have already been modified to run straight out of the box.* \n",
    "* RadxPid main params\n",
    "* RadxPid Kdp_specific params\n",
    "* RadxPid Pid_specific params\n",
    "* Pid Thresholds params (S-band, simultaneous transmit)\n",
    "* RadxQc params\n",
    "\n",
    "### 2. Run RadxPid - censor non-weather gates\n",
    "\n",
    "* Run PID algorithm to identify gates which do not have weather\n",
    "    * RadxPid\n",
    "\n",
    "### 3. Run RadxQc - censor based on thresholds\n",
    "\n",
    "* Censor gates where RHOHV and NCP don't meet thresholds\n",
    "    * RadxQc\n",
    "\n",
    "### 4. Plot PID and Rate\n",
    "\n",
    "* Visualize results of RadxPid and RadxQc analysis using Py-ART\n",
    "\n",
    "---"
   ]
  },
  {
   "cell_type": "markdown",
   "id": "e720e2e5-57b5-4879-9d7a-4eb84eab8932",
   "metadata": {},
   "source": [
    "For this tutorial, the parameter files have already been created and populated with the appropriate parameters. However, the default parameter files can be saved using the following commands."
   ]
  },
  {
   "cell_type": "code",
   "execution_count": null,
   "id": "683a61ea-5c97-4552-a6a6-751f3274c88c",
   "metadata": {},
   "outputs": [],
   "source": [
    "# # create original parameter files\n",
    "# !/usr/local/lrose/bin/RadxPid -print_params > /home/jovyan/ams2023/params/user/RadxPid_main_params_user\n",
    "# !/usr/local/lrose/bin/RadxPid -print_params_kdp > /home/jovyan/ams2023/params/user/RadxPid_Kdp_params_user\n",
    "# !/usr/local/lrose/bin/RadxPid -print_params_pid > /home/jovyan/ams2023/params/user/RadxPid_Pid_params_user\n",
    "# !/usr/local/lrose/bin/RadxQc -print_params > /home/jovyan/ams2023/params/user/RadxQc_params_user\n"
   ]
  },
  {
   "cell_type": "markdown",
   "id": "5ebfa76f",
   "metadata": {},
   "source": [
    "# 1. Setup\n",
    "## Environment and packages"
   ]
  },
  {
   "cell_type": "markdown",
   "id": "edc99a35",
   "metadata": {},
   "source": [
    "First, we import the required python packages to run this notebook. Most of the LROSE processing can be done with the os package and shell commands. At the end we will plot the output using Py-ART."
   ]
  },
  {
   "cell_type": "code",
   "execution_count": null,
   "id": "9118e997-cfa3-429e-98db-7c413388d008",
   "metadata": {},
   "outputs": [],
   "source": [
    "import os\n",
    "import pyart\n",
    "import matplotlib.pyplot as plt\n",
    "import matplotlib.colors as colors\n",
    "import numpy as np"
   ]
  },
  {
   "cell_type": "markdown",
   "id": "cd14072d",
   "metadata": {},
   "source": [
    "Next, we set up the directory structure to simplify our commands. If you are running this notebook at the LROSE workshop on JupyterHub, these paths go to the parent directory containing all the workshop resources and the LROSE binaries. \n",
    "\n",
    "**If you have downloaded this notebook, please modify BASE_DIR and LROSE_DIR to work on your personal machine.**\n",
    "\n",
    "* BASE_DIR: the base directory containing the directories for the notebooks, data, parameter files\n",
    "* RADAR_NAME: the name of the radar used in this tutorial\n",
    "* LROSE_DIR: path to the LROSE installation "
   ]
  },
  {
   "cell_type": "code",
   "execution_count": null,
   "id": "3cf8695a-059b-499b-983f-1827c1de6304",
   "metadata": {},
   "outputs": [],
   "source": [
    "os.environ['BASE_DIR'] = '/home/jovyan/ams2023'\n",
    "os.environ['RADAR_NAME'] = 'CHILL_S'\n",
    "os.environ['LROSE_DIR'] = '/usr/local/lrose/bin'\n",
    "base_dir = os.environ['BASE_DIR']\n",
    "radar_name = os.environ['RADAR_NAME']\n",
    "!echo \"Base directory: \"$BASE_DIR\n",
    "!echo \"Radar name: \"$RADAR_NAME\n",
    "!echo \"LROSE directory: \"$LROSE_DIR"
   ]
  },
  {
   "cell_type": "markdown",
   "id": "cfc53496-a785-4816-82ac-e7e379d25a50",
   "metadata": {},
   "source": [
    "## Data download and directory set up\n",
    "\n",
    "We need to set up the required data directories and download the radar data and GFS analysis to the JupyterHub. We delete any existing files and directories specific to this tutorial to ensure we're starting with clean directories and files."
   ]
  },
  {
   "cell_type": "code",
   "execution_count": null,
   "id": "b1f22ecf-9c3b-4ae1-8e5a-aa8c4f954d2c",
   "metadata": {},
   "outputs": [],
   "source": [
    "## make subdirectory within data for the raw data\n",
    "!rm -rf ${BASE_DIR}/data/qc/raw\n",
    "!mkdir -p ${BASE_DIR}/data/qc/raw\n",
    "\n",
    "## wget CfRadial files from EOL server\n",
    "!wget http://front.eol.ucar.edu/data/notebooks/ams2023/cfrad.20210815_032510.928_to_20210815_032947.216_CSU-CHILL_SUR.nc\n",
    "\n",
    "## move files to proper directory\n",
    "!mv cfrad.20210815_032510.928_to_20210815_032947.216_CSU-CHILL_SUR.nc ${BASE_DIR}/data/qc/raw\n"
   ]
  },
  {
   "cell_type": "markdown",
   "id": "b24e2f0f-fc42-4845-a5dd-50040f5b8c1e",
   "metadata": {
    "tags": []
   },
   "source": [
    "# 2.  Run RadxPid - censor non-weather gates"
   ]
  },
  {
   "cell_type": "markdown",
   "id": "617a84c8-f2db-46da-b26d-1da2e90980d3",
   "metadata": {},
   "source": [
    "## RadxPid params\n",
    "\n",
    "- **RadxPid main params**\n",
    "    - insert text"
   ]
  },
  {
   "cell_type": "code",
   "execution_count": null,
   "id": "86fc5b85-2fdb-499a-b4e7-9478af753eba",
   "metadata": {
    "scrolled": true,
    "tags": []
   },
   "outputs": [],
   "source": [
    "!rm -rf ${BASE_DIR}/data/qc/radxpid\n",
    "!mkdir -p ${BASE_DIR}/data/qc/radxpid\n",
    "\n",
    "# run RadxPid\n",
    "#!${LROSE_DIR}/RadxPid -vv -params ${BASE_DIR}/params/qc/RadxPid_main_params -f ${BASE_DIR}/data/qc/raw/*.nc -outdir ${BASE_DIR}/data/qc/radxpid\n",
    "!${LROSE_DIR}/RadxRate -params ${BASE_DIR}/params/qc/RadxRate_main_params -f ${BASE_DIR}/data/qc/raw/*.nc -outdir ${BASE_DIR}/data/qc/radxpid\n",
    "\n"
   ]
  },
  {
   "cell_type": "markdown",
   "id": "a0ca1ff6-2fc1-4aab-9f56-134b74eccb6c",
   "metadata": {},
   "source": [
    "# 3. Run RadxQc - censor based on thresholds"
   ]
  },
  {
   "cell_type": "markdown",
   "id": "a0acd67e",
   "metadata": {},
   "source": [
    "****\n",
    "\n",
    "Here, *-params* provides the link to the main RadxQc parameter file, *-f* provides the link to the files we want to process, and *-outdir* indicates where RadxRate should write the final files."
   ]
  },
  {
   "cell_type": "code",
   "execution_count": null,
   "id": "b916ddf3-4e02-4350-ab71-102d40c3105f",
   "metadata": {},
   "outputs": [],
   "source": [
    "# run RadxQc\n",
    "!${LROSE_DIR}/RadxQc -params ${BASE_DIR}/params/qc/RadxQc_params -f ${BASE_DIR}/data/qc/raw/*.nc -outdir ${BASE_DIR}/data/qc/radxqc\n"
   ]
  },
  {
   "cell_type": "markdown",
   "id": "a5e6b9dd",
   "metadata": {},
   "source": [
    "# 4. Plot censored CHILL output"
   ]
  },
  {
   "cell_type": "markdown",
   "id": "7d654932-fe3f-4945-bd64-6134493d2ab4",
   "metadata": {},
   "source": [
    "## Censoring using the PID"
   ]
  },
  {
   "cell_type": "markdown",
   "id": "ed3cd54b",
   "metadata": {},
   "source": [
    "To visualize the output in the notebook, we can use Py-ART. HawkEye is also great for visualizing data - a general parameter file can be found in the echo parameter files directory."
   ]
  },
  {
   "cell_type": "code",
   "execution_count": null,
   "id": "21f8399d",
   "metadata": {
    "scrolled": true,
    "tags": []
   },
   "outputs": [],
   "source": [
    "# Read CfRadial file into radar object\n",
    "inDir = base_dir+\"/data/qc/radxpid/20210815/\"\n",
    "file = \"cfrad.20210815_032510.928_to_20210815_032947.216_CSU-CHILL_SUR.nc\"\n",
    "rate_kmhx = pyart.io.read_cfradial(inDir+file)\n",
    "rate_kmhx.info('compact')\n"
   ]
  },
  {
   "cell_type": "markdown",
   "id": "3062b424",
   "metadata": {},
   "source": [
    "We can create a colormap for visualizing PID."
   ]
  },
  {
   "cell_type": "code",
   "execution_count": null,
   "id": "dd207f99",
   "metadata": {},
   "outputs": [],
   "source": [
    "pidmap = np.array([[0.12156862745098039, 0.46666666666666667, 0.70588235294117652, 1.0],\n",
    "              [0.68235294117647061, 0.7803921568627451, 0.90980392156862744, 1.0],\n",
    "              [0.59607843137254901, 0.87450980392156863, 0.54117647058823526, 1.0],\n",
    "              [0.45490196078431372, 0.7686274509803922, 0.46274509803921571, 1.0],\n",
    "              [0.17254901960784313, 0.62745098039215685, 0.17254901960784313, 1.0],\n",
    "              [0.83921568627450982, 0.15294117647058825, 0.15686274509803921, 1.0],\n",
    "              [1.0, 0.59607843137254901, 0.58823529411764708, 1.0],\n",
    "              [1.0, 0.49803921568627452, 0.054901960784313725, 1.0],\n",
    "              [1.0, 0.73333333333333328, 0.47058823529411764, 1.0],\n",
    "              [0.61960784313725492, 0.85490196078431369, 0.89803921568627454, 1.0],\n",
    "              [0.090196078431372548, 0.74509803921568629, 0.81176470588235294, 1.0],\n",
    "              [0.61176470588235299, 0.61960784313725492, 0.87058823529411766, 1.0],\n",
    "              [0.32156862745098042, 0.32941176470588235, 0.63921568627450975, 1.0],\n",
    "              [0.859375, 0.859375, 0.859375, 1.0],\n",
    "              [0.66015625, 0.66015625, 0.66015625, 1.0],\n",
    "              [0.41015625, 0.41015625, 0.41015625, 1.0],\n",
    "              [0.0, 0.0, 0.0, 1.0],],'f')\n",
    "my_cmap2 = colors.ListedColormap(pidmap, name='ncar_pid')\n"
   ]
  },
  {
   "cell_type": "code",
   "execution_count": null,
   "id": "81e490c2",
   "metadata": {},
   "outputs": [],
   "source": [
    "# Plot results of RadxRate\n",
    "\n",
    "displayRate = pyart.graph.RadarDisplay(rate_kmhx)\n",
    "figRate = plt.figure(1, (12, 10))\n",
    "\n",
    "# DBZ (input)\n",
    "\n",
    "axDbz = figRate.add_subplot(221)\n",
    "displayRate.plot_ppi('DBZ', 0, vmin=-32, vmax=64.,\n",
    "                    axislabels=(\"x(km)\", \"y(km)\"),\n",
    "                    colorbar_label=\"DBZ\")\n",
    "displayRate.plot_range_rings([50, 100, 150, 200, 250])\n",
    "displayRate.plot_cross_hair(150.)\n",
    "displayRate.set_limits(xlim=(-150,150),ylim=(-150,150))\n",
    "\n",
    "# KDP (computed)\n",
    "\n",
    "axKdp = figRate.add_subplot(222)\n",
    "displayRate.plot_ppi('KDP', 0, vmin=0, vmax=2.,\n",
    "    axislabels=(\"x(km)\", \"y(km)\"),\n",
    "    colorbar_label=\"KDP (deg/km)\",\n",
    "    cmap=\"nipy_spectral\")\n",
    "displayRate.plot_range_rings([50, 100, 150, 200, 250])\n",
    "displayRate.plot_cross_hair(150.)\n",
    "displayRate.set_limits(xlim=(-150,150),ylim=(-150,150))\n",
    "\n",
    "# RATE_HYBRID (computed)\n",
    "\n",
    "axHybrid = figRate.add_subplot(223)\n",
    "displayRate.plot_ppi('ZDR', 0, vmin=-1., vmax=5.,\n",
    "    axislabels=(\"x(km)\", \"y(km)\"),\n",
    "    colorbar_label=\"ZDR\",\n",
    "    cmap=\"nipy_spectral\")\n",
    "displayRate.plot_range_rings([50, 100, 150, 200, 250])\n",
    "displayRate.plot_cross_hair(150.)\n",
    "displayRate.set_limits(xlim=(-150,150),ylim=(-150,150))\n",
    "\n",
    "# NCAR PID (computed)\n",
    "\n",
    "axPID = figRate.add_subplot(224)\n",
    "displayRate.plot_ppi('PID', 0, vmin=0.5, vmax = 17.5,\n",
    "    axislabels=(\"x(km)\", \"y(km)\"),\n",
    "    colorbar_label=\"PID\",\n",
    "    cmap = my_cmap2, mask_outside=True)\n",
    "displayRate.plot_range_rings([50, 100, 150, 200, 250])\n",
    "displayRate.plot_cross_hair(150.)\n",
    "displayRate.set_limits(xlim=(-150,150),ylim=(-150,150))\n",
    "\n",
    "# plot all 17 PID categories\n",
    "pid_cbar = displayRate.cbs[3]\n",
    "#pid_cbar.set_ticks([1,2,3,4,5,6,7,8,9,10,11,12,13])\n",
    "#pid_cbar.set_ticklabels(['cld-drops', 'drizzle', 'lt-rain', 'mod-rain', 'hvy-rain', 'hail', 'rain/hail', 'sm-hail', 'gr/rain', 'dry-snow', 'wet-snow', 'ice', 'irreg-ice'])\n",
    "pid_cbar.set_ticks([1,2,3,4,5,6,7,8,9,10,11,12,13,14,15,16,17])\n",
    "pid_cbar.set_ticklabels(['cld-drops', 'drizzle', 'lt-rain', 'mod-rain', 'hvy-rain', 'hail', 'rain/hail', 'sm-hail', 'gr/rain', 'dry-snow', 'wet-snow', 'ice', 'irreg-ice', 'slw', 'insects', '2nd-trip', 'clutter'])\n",
    "\n",
    "figRate.tight_layout()\n",
    "\n",
    "plt.show()\n"
   ]
  },
  {
   "cell_type": "markdown",
   "id": "74b39584-c513-465b-93b2-4cafff06b323",
   "metadata": {},
   "source": [
    "## Censoring using the variable thresholds"
   ]
  },
  {
   "cell_type": "code",
   "execution_count": null,
   "id": "ddb81040-b5d0-4062-8af3-9a6b953fbc56",
   "metadata": {
    "scrolled": true,
    "tags": []
   },
   "outputs": [],
   "source": [
    "# Read CfRadial file into radar object\n",
    "inDir = base_dir+\"/data/qc/radxqc/20210815/\"\n",
    "file = \"cfrad.20210815_032510.928_to_20210815_032947.216_CSU-CHILL_SUR.nc\"\n",
    "qc_chill = pyart.io.read_cfradial(inDir+file)\n",
    "qc_chill.info('compact')"
   ]
  },
  {
   "cell_type": "code",
   "execution_count": null,
   "id": "8235faeb-1649-467a-9cd6-3b6f73a89ae4",
   "metadata": {},
   "outputs": [],
   "source": [
    "# Plot results of RadxRate\n",
    "\n",
    "displayRate = pyart.graph.RadarDisplay(qc_chill)\n",
    "figRate = plt.figure(1, (12, 10))\n",
    "\n",
    "# DBZ (input)\n",
    "\n",
    "axDbz = figRate.add_subplot(221)\n",
    "displayRate.plot_ppi('DBZ', 0, vmin=-32, vmax=64.,\n",
    "                    axislabels=(\"x(km)\", \"y(km)\"),\n",
    "                    colorbar_label=\"DBZ\")\n",
    "displayRate.plot_range_rings([50, 100, 150, 200, 250])\n",
    "displayRate.plot_cross_hair(150.)\n",
    "displayRate.set_limits(xlim=(-150,150),ylim=(-150,150))\n",
    "\n",
    "# KDP (computed)\n",
    "\n",
    "axKdp = figRate.add_subplot(222)\n",
    "displayRate.plot_ppi('ZDR', 0, vmin=0, vmax=2.,\n",
    "    axislabels=(\"x(km)\", \"y(km)\"),\n",
    "    colorbar_label=\"ZDR (dB)\",\n",
    "    cmap=\"nipy_spectral\")\n",
    "displayRate.plot_range_rings([50, 100, 150, 200, 250])\n",
    "displayRate.plot_cross_hair(150.)\n",
    "displayRate.set_limits(xlim=(-150,150),ylim=(-150,150))\n",
    "\n",
    "# RATE_HYBRID (computed)\n",
    "\n",
    "axHybrid = figRate.add_subplot(223)\n",
    "displayRate.plot_ppi('RHOHV', 0, vmin=0.8, vmax=1.05,\n",
    "    axislabels=(\"x(km)\", \"y(km)\"),\n",
    "    colorbar_label=\"RHOHV\")\n",
    "displayRate.plot_range_rings([50, 100, 150, 200, 250])\n",
    "displayRate.plot_cross_hair(150.)\n",
    "displayRate.set_limits(xlim=(-150,150),ylim=(-150,150))\n",
    "\n",
    "# NCAR PID (computed)\n",
    "\n",
    "axPID = figRate.add_subplot(224)\n",
    "displayRate.plot_ppi('NCP', 0, vmin=0.4, vmax = 1.1,\n",
    "    axislabels=(\"x(km)\", \"y(km)\"),\n",
    "    colorbar_label=\"NCP\",\n",
    "    mask_outside=True)\n",
    "displayRate.plot_range_rings([50, 100, 150, 200, 250])\n",
    "displayRate.plot_cross_hair(150.)\n",
    "displayRate.set_limits(xlim=(-150,150),ylim=(-150,150))\n",
    "\n",
    "figRate.tight_layout()\n",
    "\n",
    "plt.show()\n"
   ]
  },
  {
   "cell_type": "markdown",
   "id": "20d64b8c",
   "metadata": {},
   "source": [
    "# 5. Extras"
   ]
  },
  {
   "cell_type": "markdown",
   "id": "354fcad6",
   "metadata": {},
   "source": [
    "<a id=’RadxRate-parameters’></a>\n",
    "## **RadxRate parameters**"
   ]
  },
  {
   "cell_type": "markdown",
   "id": "6327bc31",
   "metadata": {},
   "source": [
    "Below is a list of important RadxRate parameters. The line numbers are accurate as of Dec 2022 for the final Topaz release of LROSE. \n",
    "\n",
    "* **RadxRate main parameters**\n",
    "    * input_dir [line 105]: path to input data, can be specified on command line\n",
    "    * INPUT FIELD INFORMATION [line 155]: must match input file variable names\n",
    "        * here SNR_available = FALSE [line 177]\n",
    "        * here DBZ_field_name = \"REF\" [line 215]\n",
    "        * here LDR_available = FALSE [line 255]\n",
    "    * kdp_params_file_path [line 284]: path to Kdp-specific parameter file\n",
    "    * pid_params_file_path [line 303]: path to PID-specific parameter file\n",
    "    * PID_use_attenuation_corrected_fields [line 331]: specify whether to use attenuation-corrected DBZ and ZDR in PID\n",
    "    * RATE_params_file_path [line 350]: path to precipitation rate coefficients parameter file\n",
    "    * RATE_use_attenuation_corrected_fields [line 378]: specify whether to use attenuation-corrected DBZ and ZDR in precipitation rate calculation\n",
    "    * output_dir [line 699]: path where output files are written, can set on command line with -outdir\n",
    "    * output_format [line 755]: output file format, usually CfRadial\n",
    "* **RadxRate Kdp_specific parameters**\n",
    "    * KDP_fir_filter_len [line 65]: filter length used for KDP calculation\n",
    "        * here KDP_FIR_LEN_10\n",
    "    * KDP_psob_method [line 114]: specify method to remove phase shift on backscatter\n",
    "        * here PEAK_REMOVAL_METHOD\n",
    "* **RadxRate Pid_specific parameters**\n",
    "    * PID_thresholds_file_path [line 27]: path to fuzzy logic PID thresholds file\n",
    "    * PID_use_soundings_from_spdb [line 303]: specify whether soundings are in Spdb format, otherwise sounding found in fuzzy logic file\n",
    "        * here TRUE\n",
    "    * PID_sounding_spdb_url [line 313]: path to Spdb soundings\n",
    "    * PID_sounding_location_name [line 339]: name of sounding location\n",
    "        * here $(RADAR_NAME)\n",
    "* **RadxRate Rate_specific parameters**\n",
    "    * RATE_zh_aa [line 154]: R(Z) coefficients\n",
    "    * RATE_zh_bb [line 164]: R(Z) coefficients\n",
    "    * RATE_zh_aa_snow [line 182]: R(Z) coefficients in snow\n",
    "    * RATE_zh_bb_snow [line 192]: R(Z) coefficients in snow\n",
    "    * RATE_zzdr_aa [line 210]: R(Z, ZDR) coefficients\n",
    "    * RATE_zzdr_bb [line 220]: R(Z, ZDR) coefficients\n",
    "    * RATE_zzdr_cc [line 230]: R(Z, ZDR) coefficients\n",
    "    * RATE_kdp_aa [line 248]: R(KDP) coefficients\n",
    "    * RATE_kdp_bb [line 258]: R(KDP) coefficients\n",
    "    * RATE_kdpzdr_aa [line 277]: R(KDP, ZDR) coefficients\n",
    "    * RATE_kdpzdr_bb [line 287]: R(KDP, ZDR) coefficients\n",
    "    * RATE_kdpzdr_cc [line 297]: R(KDP, ZDR) coefficients\n",
    "* **Pid Thresholds parameters**\n",
    "    * Radar dependent\n",
    "        * NEXRAD is S-band simultaneous h/v transmission and recieving\n",
    "        * Other parameter files can be found [here](http://wiki.lrose.net/index.php/RadxPid#PID_thresholds_file)\n"
   ]
  },
  {
   "cell_type": "code",
   "execution_count": null,
   "id": "cf8166c0",
   "metadata": {},
   "outputs": [],
   "source": []
  }
 ],
 "metadata": {
  "kernelspec": {
   "display_name": "Python [conda env:lrose-ams-2023]",
   "language": "python",
   "name": "conda-env-lrose-ams-2023-py"
  },
  "language_info": {
   "codemirror_mode": {
    "name": "ipython",
    "version": 3
   },
   "file_extension": ".py",
   "mimetype": "text/x-python",
   "name": "python",
   "nbconvert_exporter": "python",
   "pygments_lexer": "ipython3",
   "version": "3.10.6"
  }
 },
 "nbformat": 4,
 "nbformat_minor": 5
}
