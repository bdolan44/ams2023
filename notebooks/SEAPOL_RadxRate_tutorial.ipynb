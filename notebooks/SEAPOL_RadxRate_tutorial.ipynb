{
 "cells": [
  {
   "cell_type": "markdown",
   "id": "de6e774d-3552-4954-97b3-b5ebaf9e5c26",
   "metadata": {},
   "source": [
    "# RadxRate Tutorial\n",
    "\n",
    "---\n",
    "\n",
    "This interactive tutorial takes you through the steps of how to run RadxRate. RadxRate builds upon the capabilities of RadxKdp and RadxPid by calculating hourly rain rates at each radar gate depending on the local PID category and polarimetric values. It shares parameters files with those two applications. RadxRate will calculate the rain rates with either raw or attenuated-corrected data; the user can choose the option they prefer. The three-dimensional rain rates produced by RadxRate can be then used in RadxQpe to estimate the rain rate closest to the surface, after accounting for beam blockage, noise, and clutter.\n",
    "\n",
    "A visual comparison of RadxKdp, RadxPid, and RadxRate and their parameter files is shown below. Each application has its own main parameter file that defines variable names and specifies the paths to the parameter file for each relevant sub-process. For example, the main RadxRate parameter file links to the KDP, PID, and rate parameter files (the PID parameter file links to the PID thresholds file).\n",
    "\n",
    "<div>\n",
    "<img src=\"../../ams2023/images/radx_echo_description.png\" width=\"600\"/>\n",
    "</div>\n",
    "\n",
    "---\n",
    "\n",
    "*Note: this tutorial is just one type of workflow to use RadxRate. There are several other workflows!*\n",
    "\n",
    "---\n",
    "\n",
    "## Tutorial Overview\n",
    "### 1. Setup\n",
    "\n",
    "#### Directory organization\n",
    "\n",
    "The structure of the echo tutorial on JupyterHub is shown in the diagram below. The parent or base directory is \"ams2023\" and contains all of the notebooks, parameter files, and data for the workshop.\n",
    "\n",
    "<div>\n",
    "<img src=\"../../ams2023/images/RadxRate_structure.png\" width=\"500\"/>\n",
    "</div>\n",
    "\n",
    "#### Download raw data and parameter files\n",
    "\n",
    "Raw data files that will be downloaded:\n",
    "* gfsanl_4_2018091418.g2.tar\n",
    "* cfrad.20220729_080113.268_to_20220729_080615.642_SEAPOL_SUR.nc\n",
    "* cfrad.20220729_080847.591_to_20220729_081136.053_SEAPOL_RHI.nc\n",
    "\n",
    "Parameter files (included in this tutorial):\n",
    "\n",
    "*Note: The parameter files have already been modified to run straight out of the box.* \n",
    "* Grib2toMdv params\n",
    "* Mdv2SoundingSpdb params\n",
    "* RadxRate main params\n",
    "* RadxRate Kdp_specific params\n",
    "* RadxRate Pid_specific params\n",
    "* RadxRate Rate_specific params\n",
    "* Pid Thresholds params (C-band, simultaneous transmit)\n",
    "\n",
    "### 2. Prepare data for analysis\n",
    "\n",
    "The data have already been prepared for this tutorial by converting to cfradial and running a quality control algorithm.\n",
    "We also preprocessed a model sounding file to use in the PID for these cases.\n",
    "\n",
    "\n",
    "### 3. Run RadxRate\n",
    "\n",
    "* Calculate KDP, run PID algorithm, estimate three-dimensional precipitation rates\n",
    "    * RadxRate\n",
    "\n",
    "### 4. Plot PID and Rate\n",
    "\n",
    "* Visualize results of RadxRate analysis using Py-ART\n",
    "\n",
    "---"
   ]
  },
  {
   "cell_type": "markdown",
   "id": "e720e2e5-57b5-4879-9d7a-4eb84eab8932",
   "metadata": {},
   "source": [
    "For this tutorial, the parameter files have already been created and populated with the appropriate parameters. However, the default parameter files can be saved using the following commands."
   ]
  },
  {
   "cell_type": "code",
   "execution_count": null,
   "id": "683a61ea-5c97-4552-a6a6-751f3274c88c",
   "metadata": {},
   "outputs": [],
   "source": [
    "# # create original parameter files\n",
    "# !/usr/local/lrose/bin/Grib2toMdv -print_params > /home/jovyan/ams2023/params/user/Grib2toMdv_params_user\n",
    "# !/usr/local/lrose/bin/Mdv2SoundingSpdb -print_params > /home/jovyan/ams2023/params/user/Mdv2SoundingSpdb_params_user\n",
    "# !/usr/local/lrose/bin/RadxRate -print_params > /home/jovyan/ams2023/params/user/RadxRate_main_params_user\n",
    "# !/usr/local/lrose/bin/RadxRate -print_params_kdp > /home/jovyan/ams2023/params/user/RadxRate_Kdp_params_user\n",
    "# !/usr/local/lrose/bin/RadxRate -print_params_pid > /home/jovyan/ams2023/params/user/RadxRate_Pid_params_user\n",
    "# !/usr/local/lrose/bin/RadxRate -print_params_rate > /home/jovyan/ams2023/params/user/RadxRate_rate_params_user\n",
    "\n",
    "# to create new parameter files that use parameters from another file\n",
    "# !/usr/local/lrose/bin/RadxRate -params /path/to/params -print_params > /home/jovyan/ams2023/params/user/RadxRate_main_params_user\n",
    "\n",
    "# for command line options\n",
    "# !/usr/local/lrose/bin/RadxRate -h\n"
   ]
  },
  {
   "cell_type": "markdown",
   "id": "5ebfa76f",
   "metadata": {},
   "source": [
    "# 1. Setup\n",
    "## Environment and packages"
   ]
  },
  {
   "cell_type": "markdown",
   "id": "edc99a35",
   "metadata": {},
   "source": [
    "First, we import the required python packages to run this notebook. Most of the LROSE processing can be done with the os package and shell commands. At the end we will plot the output using Py-ART."
   ]
  },
  {
   "cell_type": "code",
   "execution_count": 1,
   "id": "9118e997-cfa3-429e-98db-7c413388d008",
   "metadata": {},
   "outputs": [
    {
     "name": "stdout",
     "output_type": "stream",
     "text": [
      "\n",
      "## You are using the Python ARM Radar Toolkit (Py-ART), an open source\n",
      "## library for working with weather radar data. Py-ART is partly\n",
      "## supported by the U.S. Department of Energy as part of the Atmospheric\n",
      "## Radiation Measurement (ARM) Climate Research Facility, an Office of\n",
      "## Science user facility.\n",
      "##\n",
      "## If you use this software to prepare a publication, please cite:\n",
      "##\n",
      "##     JJ Helmus and SM Collis, JORS 2016, doi: 10.5334/jors.119\n",
      "\n"
     ]
    },
    {
     "name": "stderr",
     "output_type": "stream",
     "text": [
      "<frozen importlib._bootstrap>:283: DeprecationWarning: the load_module() method is deprecated and slated for removal in Python 3.12; use exec_module() instead\n"
     ]
    }
   ],
   "source": [
    "import os\n",
    "import pyart\n",
    "import matplotlib.pyplot as plt\n",
    "import matplotlib.colors as colors\n",
    "import numpy as np"
   ]
  },
  {
   "cell_type": "markdown",
   "id": "cd14072d",
   "metadata": {},
   "source": [
    "Next, we set up the directory structure to simplify our commands. If you are running this notebook at the LROSE workshop on JupyterHub, these paths go to the parent directory containing all the workshop resources and the LROSE binaries. \n",
    "\n",
    "**If you have downloaded this notebook, please modify BASE_DIR and LROSE_DIR to work on your personal machine.**\n",
    "\n",
    "* BASE_DIR: the base directory containing the directories for the notebooks, parameter files\n",
    "* DATA_DIR: the base directory containing the directories for the data\n",
    "* RADAR_NAME: the name of the radar used in this tutorial\n",
    "* LROSE_DIR: path to the LROSE installation \n",
    "\n",
    "Note that we are setting both the *system* directories for LROSE to use, *and* the paths in python for reading the data."
   ]
  },
  {
   "cell_type": "code",
   "execution_count": 5,
   "id": "3cf8695a-059b-499b-983f-1827c1de6304",
   "metadata": {},
   "outputs": [
    {
     "name": "stdout",
     "output_type": "stream",
     "text": [
      "Base directory: /home/jovyan/ams2023/\n",
      "Radar name: SEA-POL\n",
      "LROSE directory: /usr/local/lrose/bin\n"
     ]
    }
   ],
   "source": [
    "os.environ['BASE_DIR'] = '/home/jovyan/ams2023/'\n",
    "os.environ['DATA_DIR'] = '/home/jovyan/ams2023/data/seapol/'\n",
    "\n",
    "os.environ['RADAR_NAME'] = 'SEA-POL'\n",
    "os.environ['LROSE_DIR'] = '/usr/local/lrose/bin'\n",
    "base_dir = os.environ['BASE_DIR']\n",
    "data_dir = '/home/jovyan/ams2023/data/seapol/'\n",
    "radar_name = os.environ['RADAR_NAME']\n",
    "!echo \"Base directory: \"$BASE_DIR\n",
    "!echo \"Radar name: \"$RADAR_NAME\n",
    "!echo \"LROSE directory: \"$LROSE_DIR"
   ]
  },
  {
   "cell_type": "markdown",
   "id": "cfc53496-a785-4816-82ac-e7e379d25a50",
   "metadata": {},
   "source": [
    "## Data download and directory set up\n",
    "\n",
    "We need to set up the required data directories and download the radar data and GFS analysis to the JupyterHub. We delete any existing files and directories specific to this tutorial to ensure we're starting with clean directories and files."
   ]
  },
  {
   "cell_type": "code",
   "execution_count": 4,
   "id": "b1f22ecf-9c3b-4ae1-8e5a-aa8c4f954d2c",
   "metadata": {},
   "outputs": [
    {
     "name": "stdout",
     "output_type": "stream",
     "text": [
      "--2023-02-07 07:58:33--  https://seapol.colostate.edu/data/UH_tutorial/QCed/cfrad.20220729_080113.268_to_20220729_080615.642_SEAPOL_SUR.nc\n",
      "Resolving seapol.colostate.edu (seapol.colostate.edu)... 129.82.20.210\n",
      "Connecting to seapol.colostate.edu (seapol.colostate.edu)|129.82.20.210|:443... connected.\n",
      "HTTP request sent, awaiting response... 200 OK\n",
      "Length: 17006991 (16M) [application/x-netcdf]\n",
      "Saving to: ‘cfrad.20220729_080113.268_to_20220729_080615.642_SEAPOL_SUR.nc’\n",
      "\n",
      "cfrad.20220729_0801 100%[===================>]  16.22M  43.9MB/s    in 0.4s    \n",
      "\n",
      "2023-02-07 07:58:33 (43.9 MB/s) - ‘cfrad.20220729_080113.268_to_20220729_080615.642_SEAPOL_SUR.nc’ saved [17006991/17006991]\n",
      "\n",
      "--2023-02-07 07:58:33--  https://seapol.colostate.edu/data/UH_tutorial/QCed/cfrad.20220729_080847.591_to_20220729_081136.053_SEAPOL_RHI.nc\n",
      "Resolving seapol.colostate.edu (seapol.colostate.edu)... 129.82.20.210\n",
      "Connecting to seapol.colostate.edu (seapol.colostate.edu)|129.82.20.210|:443... connected.\n",
      "HTTP request sent, awaiting response... 200 OK\n",
      "Length: 12270302 (12M) [application/x-netcdf]\n",
      "Saving to: ‘cfrad.20220729_080847.591_to_20220729_081136.053_SEAPOL_RHI.nc’\n",
      "\n",
      "cfrad.20220729_0808 100%[===================>]  11.70M  37.5MB/s    in 0.3s    \n",
      "\n",
      "2023-02-07 07:58:34 (37.5 MB/s) - ‘cfrad.20220729_080847.591_to_20220729_081136.053_SEAPOL_RHI.nc’ saved [12270302/12270302]\n",
      "\n"
     ]
    }
   ],
   "source": [
    "# ## make a directory for all the data files in the seapol tutorial (qc and sounding)\n",
    "\n",
    "# ## make subdirectory within data for the sounding data\n",
    "!rm -rf ${BASE_DIR}/data/seapol/sounding\n",
    "!mkdir ${BASE_DIR}/data/seapol/sounding\n",
    "\n",
    "# ## wget raw files from SEAPOL server\n",
    "!wget https://seapol.colostate.edu/data/UH_tutorial/Sounding/20220729.data\n",
    "!wget https://seapol.colostate.edu/data/UH_tutorial/Sounding/20220729.indx\n",
    "\n",
    "!mv 20220729.data ${BASE_DIR}/data/seapol/sounding\n",
    "!mv 20220729.indx ${BASE_DIR}/data/seapol/sounding\n",
    "\n",
    "# ## move files to proper directory\n",
    "!mv cfrad.20220729_080113.268_to_20220729_080615.642_SEAPOL_SUR.nc ${BASE_DIR}/data/seapol/qc\n",
    "!mv cfrad.20220729_080847.591_to_20220729_081136.053_SEAPOL_RHI.nc ${BASE_DIR}/data/seapol/qc\n",
    "\n",
    "# ## make subdirectory within data for sounding data\n",
    "!rm -rf ${BASE_DIR}/data/seapol/qc\n",
    "!mkdir ${BASE_DIR}/data/seapol/qc\n",
    "\n",
    "# ## wget raw files from SEAPOL server\n",
    "!wget https://seapol.colostate.edu/data/UH_tutorial/QCed/cfrad.20220729_080113.268_to_20220729_080615.642_SEAPOL_SUR.nc\n",
    "!wget https://seapol.colostate.edu/data/UH_tutorial/QCed/cfrad.20220729_080847.591_to_20220729_081136.053_SEAPOL_RHI.nc\n",
    "# !wget http://front.eol.ucar.edu/data/notebooks/ams2023/KMHX20180914_191822_V06.ar2v\n",
    "\n",
    "# ## move files to proper directory\n",
    "!mv cfrad.20220729_080113.268_to_20220729_080615.642_SEAPOL_SUR.nc ${BASE_DIR}/data/seapol/qc\n",
    "!mv cfrad.20220729_080847.591_to_20220729_081136.053_SEAPOL_RHI.nc ${BASE_DIR}/data/seapol/qc\n"
   ]
  },
  {
   "cell_type": "code",
   "execution_count": null,
   "id": "e07a5392-a805-43f9-991a-7a081dcd61c8",
   "metadata": {},
   "outputs": [],
   "source": [
    "surname = 'cfrad.20220729_080113.268_to_20220729_080615.642_SEAPOL_SUR.nc'\n",
    "datadir = '/home/jovyan/data/'\n",
    "sur_file = f'{datadir}{surname}'\n",
    "print(sur_file)"
   ]
  },
  {
   "cell_type": "markdown",
   "id": "edc30bff-24e7-470e-8831-4b51b5ff92cb",
   "metadata": {},
   "source": [
    "We can examine the raw radar file using RadxPrint. RadxPrint can read CfRadial and other raw radar formats supported by LROSE that can later be converted by RadxConvert. It will also provide information on radar variables and sweep information. For example, we can look at the variables using the following command, piping the output into the head command."
   ]
  },
  {
   "cell_type": "code",
   "execution_count": null,
   "id": "d8a3484f-bcc2-40ec-afab-899b3a28b807",
   "metadata": {
    "scrolled": true,
    "tags": []
   },
   "outputs": [],
   "source": [
    "\n",
    "# print out the first 50 lines of RadxPrint output\n",
    "!${LROSE_DIR}/RadxPrint -f ${DATA_DIR}cfrad.20220729_080113.268_to_20220729_080615.642_SEAPOL_SUR.nc | head -50\n"
   ]
  },
  {
   "cell_type": "markdown",
   "id": "b24e2f0f-fc42-4845-a5dd-50040f5b8c1e",
   "metadata": {
    "tags": []
   },
   "source": [
    "# 2. Prepare data for analysis\n",
    "## These files have already been converted to cfradial and quality controlled, so they are ready to go into RadxRate."
   ]
  },
  {
   "cell_type": "code",
   "execution_count": null,
   "id": "2bd3f5af-be73-4c9a-82f6-e41dc7f4f13e",
   "metadata": {
    "tags": []
   },
   "outputs": [],
   "source": [
    "!rm -rf ${BASE_DIR}/data/seapol\n",
    "!mkdir ${BASE_DIR}/data/seapol\n"
   ]
  },
  {
   "cell_type": "markdown",
   "id": "99a05bd3-8e2c-423e-aa92-6a5f0685800d",
   "metadata": {},
   "source": [
    "### This needs to be updated for whatever sounding we end up inputting."
   ]
  },
  {
   "cell_type": "markdown",
   "id": "7e968a98-ca46-4bd6-b8a7-78ee98c25d06",
   "metadata": {},
   "source": [
    "## Set up the parameter files."
   ]
  },
  {
   "cell_type": "markdown",
   "id": "a4b9acee-f2e0-4ccf-93a5-8c50f465bfe9",
   "metadata": {},
   "source": [
    "RadxRate will calculate Kdp, Run the PID, and calculate rain rates"
   ]
  },
  {
   "cell_type": "markdown",
   "id": "29782a1b-1291-4cfb-880b-541d6d27a873",
   "metadata": {},
   "source": [
    "<!-- ## Convert from Grib2 (model analysis) to MDV\n",
    "\n",
    "The program to retrieve the model sounding requires a gridded file format called MDV. Grib2toMdv converts the GFS analysis from GRIB to MDV. Grib2toMdv needs to know where to write the gridded data files, the name of the fields (the defaults are often sufficient), how the grid should be remapped (e.g., map projection), the size of the new grid, and the vertical levels.\n",
    "\n",
    "- **Important Grib2toMdv Parameters**\n",
    "    - input_dir [line 69]: optional, if directory is specified in command line\n",
    "    - write_non_forecast [line 385]: specify if output written in a non-forecast directory structure (*TRUE* or *FALSE*, usually *TRUE*)\n",
    "    - non_forecast_mdv_url [line 395]: absolute path where MDV files are written\n",
    "    - output_fields [line 592]: list of output fields, where param matches GRIB files and mdv_name matches Mdv2SoundingSpdb parameter file (defaults are usually sufficient)\n",
    "    - remap_output [line 755]: specify whether to remap the output (*TRUE* or *FALSE*, usually *TRUE*)\n",
    "    - out_projection_info [line 793]: set map projection type and radar location if necessary\n",
    "    - out_grid_info [line 827]: user-specified domain surrounding the region of interest and radar(s)\n",
    "        - nx/ny - number of points, minx/miny - bottom left lat/lon (deg), dx/dy - delta lon/lat (deg)\n",
    "    - height_levels [line 916]: user-specified height levels, optional\n",
    "    \n",
    "Here, the *-params* flag directs Grib2toMdv to the parameter file and *-f* points to the raw GRIB file path. This can also be specified in the parameter *input_dir*.\n",
    " -->"
   ]
  },
  {
   "cell_type": "code",
   "execution_count": null,
   "id": "edb42f75-af18-4296-a518-2842d6e753d9",
   "metadata": {
    "scrolled": true,
    "tags": []
   },
   "outputs": [],
   "source": []
  },
  {
   "cell_type": "markdown",
   "id": "a0ca1ff6-2fc1-4aab-9f56-134b74eccb6c",
   "metadata": {},
   "source": [
    "# 3. Setup steps complete, run RadxRate"
   ]
  },
  {
   "cell_type": "markdown",
   "id": "a0acd67e",
   "metadata": {},
   "source": [
    "With the radar data and point sounding, we can now run RadxRate. First, KDP is calculated. Then polarimetric radar data, calculated KDP, and sounding data are used to run PID, which determines the dominant hydrometeor at each range gate. Finally, the 3D field of hourly rain rates are calculated from polarimetric radar and PID data.\n",
    "\n",
    "Running RadxRate requires one main parameter file on the command line. That parameter file contains  links to the KDP, PID, and rain rate coefficient parameter files. The RadxRate PID parameter file contains the link to the fuzzy logic PID thresholds file. Because there are so many parameters, we have provided them at the end of this notebook. Please refer to [this link](#RadxRad-parameters).\n",
    "\n",
    "RadxRate requires the field names in the input CfRadial file, whether SNR and LDR are available, the method for KDP calculation, how to calculate the PID, how to calculate the precipitation rates (e.g., equations and coefficients), whether to use attenuation-correction fields, the variables to be written, and whether to censor non-weather gates. \n",
    "\n",
    "Here, *-params* provides the link to the main RadxRate parameter file, *-f* provides the link to the files we want to process, and *-outdir* indicates where RadxRate should write the final files."
   ]
  },
  {
   "cell_type": "code",
   "execution_count": null,
   "id": "b916ddf3-4e02-4350-ab71-102d40c3105f",
   "metadata": {},
   "outputs": [],
   "source": [
    "!${LROSE_DIR}/RadxRate -params ${BASE_DIR}params/seapol/RadxRate_main_params -f ${DATA_DIR}/*.nc -outdir ${BASE_DIR}/data/seapol\n"
   ]
  },
  {
   "cell_type": "markdown",
   "id": "a5e6b9dd",
   "metadata": {},
   "source": [
    "# 4. Plot PID and rate for SEAPOL Squall line on 29 July 2022 in Yonaguni, Japan"
   ]
  },
  {
   "cell_type": "markdown",
   "id": "ed3cd54b",
   "metadata": {},
   "source": [
    "To visualize the output in the notebook, we can use Py-ART. HawkEye is also great for visualizing data - a general parameter file can be found in the echo parameter files directory."
   ]
  },
  {
   "cell_type": "code",
   "execution_count": null,
   "id": "21f8399d",
   "metadata": {
    "scrolled": true,
    "tags": []
   },
   "outputs": [],
   "source": [
    "# Read CfRadial file into radar object\n",
    "inDir = data_dir+\"/20220729/\"\n",
    "file = \"cfrad.20220729_080113.268_to_20220729_080615.642_SEAPOL_SUR.nc\"\n",
    "#file = \"cfrad.20220729_214909.013_to_20220729_215410.811_SEAPOL_SUR.nc\"\n",
    "rate_seapol = pyart.io.read_cfradial(inDir+file)\n",
    "rate_seapol.info('compact')\n"
   ]
  },
  {
   "cell_type": "code",
   "execution_count": null,
   "id": "56d04c75-9333-4dfd-aff6-17e6e44df7eb",
   "metadata": {},
   "outputs": [],
   "source": [
    "pfile = \"cfrad.20220729_080847.591_to_20220729_081136.053_SEAPOL_RHI.nc\"\n",
    "#pfile = \"cfrad.20220729_214806.187_to_20220729_214906.248_SEAPOL_RHI.nc\"\n",
    "pid_seapol = pyart.io.read_cfradial(inDir+pfile)\n",
    "pid_seapol.info('compact')\n"
   ]
  },
  {
   "cell_type": "markdown",
   "id": "3062b424",
   "metadata": {},
   "source": [
    "We can create a colormap for visualizing PID."
   ]
  },
  {
   "cell_type": "code",
   "execution_count": null,
   "id": "dd207f99",
   "metadata": {},
   "outputs": [],
   "source": [
    "pidmap = np.array([[0.12156862745098039, 0.46666666666666667, 0.70588235294117652, 1.0],\n",
    "              [0.68235294117647061, 0.7803921568627451, 0.90980392156862744, 1.0],\n",
    "              [0.59607843137254901, 0.87450980392156863, 0.54117647058823526, 1.0],\n",
    "              [0.45490196078431372, 0.7686274509803922, 0.46274509803921571, 1.0],\n",
    "              [0.17254901960784313, 0.62745098039215685, 0.17254901960784313, 1.0],\n",
    "              [0.83921568627450982, 0.15294117647058825, 0.15686274509803921, 1.0],\n",
    "              [1.0, 0.59607843137254901, 0.58823529411764708, 1.0],\n",
    "              [1.0, 0.49803921568627452, 0.054901960784313725, 1.0],\n",
    "              [1.0, 0.73333333333333328, 0.47058823529411764, 1.0],\n",
    "              [0.61960784313725492, 0.85490196078431369, 0.89803921568627454, 1.0],\n",
    "              [0.090196078431372548, 0.74509803921568629, 0.81176470588235294, 1.0],\n",
    "              [0.61176470588235299, 0.61960784313725492, 0.87058823529411766, 1.0],\n",
    "              [0.32156862745098042, 0.32941176470588235, 0.63921568627450975, 1.0],\n",
    "              [0.859375, 0.859375, 0.859375, 1.0],\n",
    "              [0.66015625, 0.66015625, 0.66015625, 1.0],\n",
    "              [0.41015625, 0.41015625, 0.41015625, 1.0],\n",
    "              [0.0, 0.0, 0.0, 1.0],],'f')\n",
    "my_cmap2 = colors.ListedColormap(pidmap, name='ncar_pid')\n"
   ]
  },
  {
   "cell_type": "code",
   "execution_count": null,
   "id": "bfad76b3-04bb-4c8e-88f2-ea49c79019b8",
   "metadata": {},
   "outputs": [],
   "source": [
    "# surx_min= -10\n",
    "# surx_max = 60\n",
    "# sury_min = 0 \n",
    "# sury_max = 70"
   ]
  },
  {
   "cell_type": "code",
   "execution_count": null,
   "id": "42403a02-8649-4202-96f5-ad304a4c10bf",
   "metadata": {},
   "outputs": [],
   "source": [
    "surx_min= -75\n",
    "surx_max = 75\n",
    "sury_min = -75 \n",
    "sury_max = 75"
   ]
  },
  {
   "cell_type": "code",
   "execution_count": null,
   "id": "81e490c2",
   "metadata": {},
   "outputs": [],
   "source": [
    "# Plot results of RadxRate\n",
    "\n",
    "displayRate = pyart.graph.RadarDisplay(rate_seapol)\n",
    "figRate = plt.figure(1, (12, 10))\n",
    "\n",
    "# DBZ (input)\n",
    "\n",
    "axDbz = figRate.add_subplot(221)\n",
    "displayRate.plot_ppi('DBZ_ATTEN_CORRECTED', 2, vmin=0, vmax=80.,\n",
    "                    axislabels=(\"x(km)\", \"y(km)\"),cmap='pyart_NWSRef',\n",
    "                    colorbar_label=\"DBZ\")\n",
    "displayRate.set_limits(xlim=[surx_min,surx_max],ylim=[sury_min,sury_max])\n",
    "displayRate.plot_range_rings([30, 60])#, 150, 200, 250])\n",
    "displayRate.plot_cross_hair(2.)\n",
    "#displayRate.set_limits(xlim=(-70,70),ylim=(-70,70))\n",
    "\n",
    "# KDP (computed)\n",
    "\n",
    "axKdp = figRate.add_subplot(222)\n",
    "displayRate.plot_ppi('KDP', 2, vmin=0, vmax=4.,\n",
    "    axislabels=(\"x(km)\", \"y(km)\"),\n",
    "    colorbar_label=\"KDP (deg/km)\",\n",
    "    cmap=\"nipy_spectral\")\n",
    "displayRate.set_limits(xlim=[surx_min,surx_max],ylim=[sury_min,sury_max])\n",
    "displayRate.plot_range_rings([30, 60])#, 150, 200, 250])\n",
    "displayRate.plot_cross_hair(2.)\n",
    "# displayRate.set_limits(xlim=(-300,300),ylim=(-300,300))\n",
    "\n",
    "\n",
    "\n",
    "#ZDR (input)\n",
    "\n",
    "axZdr = figRate.add_subplot(223)\n",
    "displayRate.plot_ppi('ZDR_ATTEN_CORRECTED', 2,cmap='pyart_HomeyerRainbow',vmin=-1,vmax=4,\n",
    "    axislabels=(\"x(km)\", \"y(km)\"),\n",
    "    colorbar_label=\"Zdr [dB]\",\n",
    "    mask_outside=True)\n",
    "displayRate.plot_range_rings([30, 60])#, 150, 200, 250])\n",
    "displayRate.plot_cross_hair(2.)\n",
    "displayRate.set_limits(xlim=[surx_min,surx_max],ylim=[sury_min,sury_max])\n",
    "\n",
    "# RATE_HYBRID (computed)\n",
    "\n",
    "axHybrid = figRate.add_subplot(224)\n",
    "displayRate.plot_ppi('RATE_HYBRID', 2, norm=colors.LogNorm(vmin=0.1, vmax=150),\n",
    "    axislabels=(\"x(km)\", \"y(km)\"),\n",
    "    colorbar_label=\"RATE_HYBRID(mm/hr)\",\n",
    "    cmap = \"pyart_RRate11\")\n",
    "displayRate.plot_range_rings([30, 60])#, 150, 200, 250])\n",
    "displayRate.plot_cross_hair(2.)\n",
    "displayRate.set_limits(xlim=[surx_min,surx_max],ylim=[sury_min,sury_max])\n",
    "\n",
    "\n",
    "figRate.tight_layout()\n",
    "\n",
    "plt.show()\n"
   ]
  },
  {
   "cell_type": "code",
   "execution_count": null,
   "id": "e782a974-741c-4d8a-a384-e1be5d342103",
   "metadata": {},
   "outputs": [],
   "source": [
    "pid_seapol.fields.keys()"
   ]
  },
  {
   "cell_type": "code",
   "execution_count": null,
   "id": "16af5498-2f1f-4edc-8040-cdb24e590e40",
   "metadata": {
    "tags": []
   },
   "outputs": [],
   "source": [
    "# Plot results of RadxRate\n",
    "\n",
    "displayRate = pyart.graph.RadarDisplay(pid_seapol)\n",
    "figRate = plt.figure(1, (10, 10))\n",
    "\n",
    "# DBZ (input)\n",
    "\n",
    "swp = 1\n",
    "\n",
    "axDbz = figRate.add_subplot(411)\n",
    "displayRate.plot_rhi('DBZ_ATTEN_CORRECTED', swp, vmin=0, vmax=80.,\n",
    "                    axislabels=(\"x(km)\", \"y(km)\"),cmap='pyart_NWSRef',\n",
    "                    colorbar_label=\"DBZ\")\n",
    "displayRate.set_limits(xlim=[0,60],ylim=[0,18])\n",
    "#displayRate.plot_range_rings([30, 60])#, 150, 200, 250])\n",
    "displayRate.plot_cross_hair(2.)\n",
    "#displayRate.set_limits(xlim=(-300,300),ylim=(-300,300))\n",
    "\n",
    "# KDP (computed)\n",
    "\n",
    "axKdp = figRate.add_subplot(412)\n",
    "displayRate.plot_rhi('KDP', swp, vmin=0, vmax=5.,\n",
    "    axislabels=(\"x(km)\", \"y(km)\"),\n",
    "    colorbar_label=\"KDP (deg/km)\",\n",
    "    cmap=\"nipy_spectral\")\n",
    "displayRate.set_limits(xlim=[0,60],ylim=[0,18])\n",
    "#displayRate.plot_range_rings([30, 60])#, 150, 200, 250])\n",
    "displayRate.plot_cross_hair(2.)\n",
    "# displayRate.set_limits(xlim=(-300,300),ylim=(-300,300))\n",
    "\n",
    "\n",
    "axZdr = figRate.add_subplot(413)\n",
    "displayRate.plot_rhi('ZDR_ATTEN_CORRECTED', swp, vmin=-1, vmax = 5,\n",
    "    axislabels=(\"x(km)\", \"y(km)\"),\n",
    "    colorbar_label=\"Zdr [dB]\",\n",
    "    cmap = 'pyart_HomeyerRainbow', mask_outside=True)\n",
    "\n",
    "\n",
    "#'pyart_SCook18\n",
    "#displayRate.plot_range_rings([30, 60])#, 150, 200, 250])\n",
    "displayRate.plot_cross_hair(2.)\n",
    "displayRate.set_limits(xlim=[0,60],ylim=[0,18])\n",
    "#displayRate.set_limits(xlim=[surx_min,surx_max],ylim=[sury_min,sury_max])\n",
    "\n",
    "# # RATE_HYBRID (computed)\n",
    "\n",
    "# axHybrid = figRate.add_subplot(313)\n",
    "# displayRate.plot_rhi('RATE_HYBRID', 0, vmin=0, vmax=50.,\n",
    "#     axislabels=(\"x(km)\", \"y(km)\"),\n",
    "#     colorbar_label=\"RATE_HYBRID(mm/hr)\",\n",
    "#     cmap = \"pyart_RRate11\")\n",
    "# #displayRate.plot_range_rings([30, 60])#, 150, 200, 250])\n",
    "# displayRate.plot_cross_hair(2.)\n",
    "# displayRate.set_limits(xlim=[0,60],ylim=[0,18])\n",
    "\n",
    "# NCAR PID (computed)\n",
    "\n",
    "axPID = figRate.add_subplot(414)\n",
    "displayRate.plot_rhi('PID', swp, vmin=0.5, vmax = 17.5,\n",
    "    axislabels=(\"x(km)\", \"y(km)\"),\n",
    "    colorbar_label=\"PID\",\n",
    "    cmap = my_cmap2, mask_outside=True)\n",
    "#    cmap = 'pyart_PD17', mask_outside=True)\n",
    "#displayRate.plot_range_rings([30, 60])#, 150, 200, 250])\n",
    "displayRate.plot_cross_hair(2.)\n",
    "displayRate.set_limits(xlim=[0,60],ylim=[0,18])\n",
    "\n",
    "# plot all 17 PID categories\n",
    "pid_cbar = displayRate.cbs[3]\n",
    "#pid_cbar.set_ticks([1,2,3,4,5,6,7,8,9,10,11,12,13])\n",
    "#pid_cbar.set_ticklabels(['cld-drops', 'drizzle', 'lt-rain', 'mod-rain', 'hvy-rain', 'hail', 'rain/hail', 'sm-hail', 'gr/rain', 'dry-snow', 'wet-snow', 'ice', 'irreg-ice'])\n",
    "pid_cbar.set_ticks([1,2,3,4,5,6,7,8,9,10,11,12,13,14,15,16,17])\n",
    "pid_cbar.set_ticklabels(['cld-drops', 'drizzle', 'lt-rain', 'mod-rain', 'hvy-rain', 'hail', 'rain/hail', 'sm-hail', 'gr/rain', 'dry-snow', 'wet-snow', 'ice', 'irreg-ice', 'slw', 'insects', '2nd-trip', 'clutter'])\n",
    "\n",
    "\n",
    "\n",
    "figRate.tight_layout()\n",
    "\n",
    "plt.show()\n"
   ]
  },
  {
   "cell_type": "markdown",
   "id": "20d64b8c",
   "metadata": {},
   "source": [
    "# 5. Extras"
   ]
  },
  {
   "cell_type": "markdown",
   "id": "354fcad6",
   "metadata": {},
   "source": [
    "<a id=’RadxRate-parameters’></a>\n",
    "## **RadxRate parameters**"
   ]
  },
  {
   "cell_type": "markdown",
   "id": "6327bc31",
   "metadata": {},
   "source": [
    "Below is a list of important RadxRate parameters. The line numbers are accurate as of Dec 2022 for the final Topaz release of LROSE. \n",
    "\n",
    "* **RadxRate main parameters**\n",
    "    * input_dir [line 105]: path to input data, can be specified on command line\n",
    "    * INPUT FIELD INFORMATION [line 155]: must match input file variable names\n",
    "        * here SNR_available = FALSE [line 177]\n",
    "        * here DBZ_field_name = \"REF\" [line 215]\n",
    "        * here LDR_available = FALSE [line 255]\n",
    "    * kdp_params_file_path [line 284]: path to Kdp-specific parameter file\n",
    "    * pid_params_file_path [line 303]: path to PID-specific parameter file\n",
    "    * PID_use_attenuation_corrected_fields [line 331]: specify whether to use attenuation-corrected DBZ and ZDR in PID\n",
    "    * RATE_params_file_path [line 350]: path to precipitation rate coefficients parameter file\n",
    "    * RATE_use_attenuation_corrected_fields [line 378]: specify whether to use attenuation-corrected DBZ and ZDR in precipitation rate calculation\n",
    "    * output_dir [line 699]: path where output files are written, can set on command line with -outdir\n",
    "    * output_format [line 755]: output file format, usually CfRadial\n",
    "* **RadxRate Kdp_specific parameters**\n",
    "    * KDP_fir_filter_len [line 65]: filter length used for KDP calculation\n",
    "        * here KDP_FIR_LEN_10\n",
    "    * KDP_psob_method [line 114]: specify method to remove phase shift on backscatter\n",
    "        * here PEAK_REMOVAL_METHOD\n",
    "* **RadxRate Pid_specific parameters**\n",
    "    * PID_thresholds_file_path [line 27]: path to fuzzy logic PID thresholds file\n",
    "    * PID_use_soundings_from_spdb [line 303]: specify whether soundings are in Spdb format, otherwise sounding found in fuzzy logic file\n",
    "        * here TRUE\n",
    "    * PID_sounding_spdb_url [line 313]: path to Spdb soundings\n",
    "    * PID_sounding_location_name [line 339]: name of sounding location\n",
    "        * here $(RADAR_NAME)\n",
    "* **RadxRate Rate_specific parameters**\n",
    "    * RATE_zh_aa [line 154]: R(Z) coefficients\n",
    "    * RATE_zh_bb [line 164]: R(Z) coefficients\n",
    "    * RATE_zh_aa_snow [line 182]: R(Z) coefficients in snow\n",
    "    * RATE_zh_bb_snow [line 192]: R(Z) coefficients in snow\n",
    "    * RATE_zzdr_aa [line 210]: R(Z, ZDR) coefficients\n",
    "    * RATE_zzdr_bb [line 220]: R(Z, ZDR) coefficients\n",
    "    * RATE_zzdr_cc [line 230]: R(Z, ZDR) coefficients\n",
    "    * RATE_kdp_aa [line 248]: R(KDP) coefficients\n",
    "    * RATE_kdp_bb [line 258]: R(KDP) coefficients\n",
    "    * RATE_kdpzdr_aa [line 277]: R(KDP, ZDR) coefficients\n",
    "    * RATE_kdpzdr_bb [line 287]: R(KDP, ZDR) coefficients\n",
    "    * RATE_kdpzdr_cc [line 297]: R(KDP, ZDR) coefficients\n",
    "* **Pid Thresholds parameters**\n",
    "    * Radar dependent\n",
    "        * NEXRAD is S-band simultaneous h/v transmission and recieving\n",
    "        * Other parameter files can be found [here](http://wiki.lrose.net/index.php/RadxPid#PID_thresholds_file)\n"
   ]
  },
  {
   "cell_type": "code",
   "execution_count": null,
   "id": "cf8166c0",
   "metadata": {},
   "outputs": [],
   "source": []
  }
 ],
 "metadata": {
  "kernelspec": {
   "display_name": "Python [conda env:lrose-ams-2023]",
   "language": "python",
   "name": "conda-env-lrose-ams-2023-py"
  },
  "language_info": {
   "codemirror_mode": {
    "name": "ipython",
    "version": 3
   },
   "file_extension": ".py",
   "mimetype": "text/x-python",
   "name": "python",
   "nbconvert_exporter": "python",
   "pygments_lexer": "ipython3",
   "version": "3.10.6"
  }
 },
 "nbformat": 4,
 "nbformat_minor": 5
}
