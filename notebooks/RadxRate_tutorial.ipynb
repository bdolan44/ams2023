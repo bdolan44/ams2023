{
 "cells": [
  {
   "cell_type": "markdown",
   "id": "de6e774d-3552-4954-97b3-b5ebaf9e5c26",
   "metadata": {},
   "source": [
    "<h1>RadxRate Tutorial</h1>\n",
    "\n",
    "---\n",
    "\n",
    "This interactive tutorial takes you through the steps of how to run RadxRate. RadxRate builds upon the capabilities of RadxKdp and RadxPid by calculating hourly rain rates at each radar gate depending on the local PID category and polarimetric values. It shares parameters files with those two applications. RadxRate will calculate the rain rates with either raw or attenuated-corrected data; the user can choose the option they prefer. The three-dimensional rain rates produced by RadxRate can be then used in RadxQpe to estimate the rain rate closest to the surface, after accounting for beam blockage, noise, and clutter.\n",
    "\n",
    "---\n",
    "\n",
    "*Note: this tutorial is just one type of workflow to use RadxRate. There are several other workflows!*\n",
    "\n",
    "<h2>Overview</h2>\n",
    "\n",
    "\n",
    "**1. Parameter files**\n",
    "* RadxRate main params\n",
    "* RadxRate Kdp_specific params\n",
    "* RadxRate Pid_specific params\n",
    "* RadxRate Rate_specific params\n",
    "* Pid Thresholds params (Radar d\n",
    "ependent)\n",
    "* Grib2toMdv params"
   ]
  },
  {
   "cell_type": "markdown",
   "id": "ecca78e1-0fb3-4310-af81-ab14e655166b",
   "metadata": {},
   "source": [
    "### **Parameter files modifications**\n",
    "* **RadxRate main params**\n",
    "    * input_dir (radar data) [line 105]\n",
    "    * INPUT FIELD INFORMATION. [line 155]\n",
    "        * SNR_available = TRUE; change to FALSE; [line 177]\n",
    "        * DBZ_field_name = \"DBZ\"; change to \"REF\"; [line 215]\n",
    "        * LDR_available = TRUE; change to FALSE [line 255]\n",
    "    * kdp_params_file_path  [line 284]\n",
    "    * pid_params_file_path  [line 303]\n",
    "    * PID_use_attenuation_corrected_fields = TRUE [line 331]\n",
    "    * RATE_params_file_path [line 350]\n",
    "    * RATE_use_attenuation_corrected_fields = TRUE [line 378]\n",
    "    * output_dir [line 699] -- or set in command line with -outdir flag\n",
    "    * output_format = OUTPUT_FORMAT_CFRADIAL; (Default) [line 755] \n",
    "* **RadxRate Kdp_specific params**\n",
    "    * KDP_fir_filter_len = KDP_FIR_LEN_10; [line 65]\n",
    "    * KDP_psob_method = PEAK_REMOVAL_METHOD; [line 114]\n",
    "* **RadxRate Pid_specific params**\n",
    "    * PID_thresholds_file_path [line 27]\n",
    "    * PID_use_soundings_from_spdb = FALSE; set to TRUE[line 303]\n",
    "    * PID_sounding_spdb_url = \"spdb/soundings\"; [line 313]\n",
    "    * PID_sounding_location_name [line 339]\n",
    "    *  **do sounding steps first before filling Pid variables out**\n",
    "* **RadxRate Rate_specific params**\n",
    "    * N/A?\n",
    "* **Pid Thresholds params**\n",
    "    * Radar dependent\n",
    "        * Nexrad is S-band simultaneous h/v transmission and recieving\n"
   ]
  },
  {
   "cell_type": "markdown",
   "id": "f1171e3c-bdd4-4cd9-8644-752e5cfac5dd",
   "metadata": {},
   "source": [
    "https://stackoverflow.com/questions/19699059/print-directory-file-structure-with-icons-for-representation-in-markdown\n",
    "```\n",
    "BASE_DIR\n",
    "│   RadxRate_tutorial.ipynb\n",
    "│ \n",
    "│\n",
    "└───data\n",
    "│   │   ...\n",
    "│   │   \n",
    "│   │\n",
    "│   │───raw\n",
    "│   │   │   KMHX20180914_191822_V06.ar2v\n",
    "│   │   │   gfsanl_4_2018091418.g2.tar\n",
    "│   │   │   \n",
    "│   │───CfRadial\n",
    "│   │   │   ...\n",
    "│   │   │\n",
    "│   │   │\n",
    "│   │───sounding \n",
    "│   │   │   ...\n",
    "│   │   │\n",
    "│    ───\n",
    "│   \n",
    "└───params\n",
    "│   │   Pid_thresholds.sband.shv.txt\n",
    "│   │   RadxRate_main_params\n",
    "│   │   RadxRate_Kdp_params\n",
    "│   │   RadxRate_Pid_params\n",
    "│   │   RadxRate_rate_params\n",
    "\n"
   ]
  },
  {
   "cell_type": "markdown",
   "id": "e720e2e5-57b5-4879-9d7a-4eb84eab8932",
   "metadata": {},
   "source": [
    "- Print out parameter files"
   ]
  },
  {
   "cell_type": "code",
   "execution_count": null,
   "id": "683a61ea-5c97-4552-a6a6-751f3274c88c",
   "metadata": {},
   "outputs": [],
   "source": [
    "# # create original parameter files\n",
    "# !/usr/local/lrose/bin/RadxRate -print_params > ./params_ori/RadxRate_main_params\n",
    "# !/usr/local/lrose/bin/RadxRate -print_params_kdp > ./params_ori/RadxRate_Kdp_params\n",
    "# !/usr/local/lrose/bin/RadxRate -print_params_pid > ./params_ori/RadxRate_Pid_params\n",
    "# !/usr/local/lrose/bin/RadxRate -print_params_rate > ./params_ori/RadxRate_rate_params\n",
    "\n",
    "# # setup parameter files for Users\n",
    "# !/usr/local/lrose/bin/RadxRate -print_params > ./params/RadxRate_main_params\n",
    "# !/usr/local/lrose/bin/RadxRate -print_params_kdp > ./params/RadxRate_Kdp_params\n",
    "# !/usr/local/lrose/bin/RadxRate -print_params_pid > ./params/RadxRate_Pid_params\n",
    "# !/usr/local/lrose/bin/RadxRate -print_params_rate > ./params/RadxRate_rate_params\n",
    "# !/usr/local/lrose/bin/Grib2toMdv -print_params > ./params/Grib2toMdv_params"
   ]
  },
  {
   "cell_type": "code",
   "execution_count": null,
   "id": "9118e997-cfa3-429e-98db-7c413388d008",
   "metadata": {},
   "outputs": [],
   "source": [
    "import os"
   ]
  },
  {
   "cell_type": "markdown",
   "id": "cd14072d",
   "metadata": {},
   "source": [
    "Here we will set up the directory structure to simplify our commands. (*note: modify BASE_DIR and LROSE_DIR if your personal machine has different directory structures*)\n",
    "\n",
    "* BASE_DIR: the base directory containing the directories for the notebooks, data, parameter files\n",
    "* RADAR_NAME: the name of the radar used in this tutorial\n",
    "* LROSE_DIR: path to the LROSE installation "
   ]
  },
  {
   "cell_type": "code",
   "execution_count": null,
   "id": "3cf8695a-059b-499b-983f-1827c1de6304",
   "metadata": {},
   "outputs": [],
   "source": [
    "os.environ['BASE_DIR'] = '/home/jovyan/ams2023'\n",
    "os.environ['RADAR_NAME'] = 'KMHX'\n",
    "os.environ['LROSE_DIR'] = '/usr/local/lrose/bin'\n",
    "!echo \"Base directory: \"$BASE_DIR\n",
    "!echo \"Base directory: \"$RADAR_NAME"
   ]
  },
  {
   "cell_type": "markdown",
   "id": "cfc53496-a785-4816-82ac-e7e379d25a50",
   "metadata": {},
   "source": [
    "# Data download and directory organization\n",
    "\n",
    "https://drive.google.com/drive/folders/1nQ1-CUR_OFuSdWgsE-qL35L5rcWTmEh4?usp=share_link"
   ]
  },
  {
   "cell_type": "code",
   "execution_count": null,
   "id": "b1f22ecf-9c3b-4ae1-8e5a-aa8c4f954d2c",
   "metadata": {},
   "outputs": [],
   "source": [
    "### make a directory for all the data files (raw and analysis)\n",
    "# !rm -rf ${BASE_DIR}/data/echo\n",
    "# !mkdir ${BASE_DIR}/data/echo\n",
    "\n",
    "### make subdirectory within data for the raw data\n",
    "# !rm -rf ${BASE_DIR}/data/echo/raw\n",
    "# !mkdir ${BASE_DIR}/data/echo/raw\n",
    "\n",
    "### make subdirectory within data for sounding data\n",
    "# !rm -rf ${BASE_DIR}/data/echo/sounding\n",
    "# !mkdir ${BASE_DIR}/data/echo/sounding\n",
    "\n",
    "### wget raw files from ftpserver and plop in appropriate $BASE_DIR subdirectory\n",
    "# !cd ${BASE_DIR}/data/echo/raw; wget ftpserver/KMHX20180914_191822_V06.ar2v\n",
    "# !cd ${BASE_DIR}/data/echo/raw; wget ftpserver/gfsanl_4_2018091418.g2.tar\n",
    "\n",
    "# !wget --load-cookies /tmp/cookies.txt \"https://docs.google.com/uc?export=download&confirm=$(wget --quiet --save-cookies /tmp/cookies.txt --keep-session-cookies --no-check-certificate 'https://docs.google.com/uc?export=download&id=1NT_gA3RPi5PB0PSCh8b8UNm43uc5fQrO' -O- | sed -rn 's/.*confirm=([0-9A-Za-z_]+).*/\\1\\n/p')&id=1NT_gA3RPi5PB0PSCh8b8UNm43uc5fQrO\" -O gfsanl_4_2018091418.g2.tar && rm -rf /tmp/cookies.txt\n",
    "# !wget --load-cookies /tmp/cookies.txt \"https://docs.google.com/uc?export=download&confirm=$(wget --quiet --save-cookies /tmp/cookies.txt --keep-session-cookies --no-check-certificate 'https://docs.google.com/uc?export=download&id=10On5qmT4p-Wvm1kpdGjLUHdu0TQyXZDK' -O- | sed -rn 's/.*confirm=([0-9A-Za-z_]+).*/\\1\\n/p')&id=10On5qmT4p-Wvm1kpdGjLUHdu0TQyXZDK\" -O KMHX20180914_191822_V06.ar2v && rm -rf /tmp/cookies.txt\n",
    "\n",
    "### move files to proper directories\n",
    "# !mv KMHX20180914_191822_V06.ar2v ${BASE_DIR}/data/echo/raw\n",
    "# !mv gfsanl_4_2018091418.g2.tar ${BASE_DIR}/data/echo/raw"
   ]
  },
  {
   "cell_type": "markdown",
   "id": "b24e2f0f-fc42-4845-a5dd-50040f5b8c1e",
   "metadata": {
    "tags": []
   },
   "source": [
    "# Convert Nexrad Level II to CfRadial files"
   ]
  },
  {
   "cell_type": "code",
   "execution_count": null,
   "id": "2bd3f5af-be73-4c9a-82f6-e41dc7f4f13e",
   "metadata": {
    "tags": []
   },
   "outputs": [],
   "source": [
    "# !rm -rf ${BASE_DIR}/data/echo/CfRadial\n",
    "# !mkdir ${BASE_DIR}/data/echo/CfRadial\n",
    "!${LROSE_DIR}/RadxConvert -f ${BASE_DIR}/data/echo/raw/KMHX20180914_191822_V06.ar2v -outdir ${BASE_DIR}/data/echo/CfRadial"
   ]
  },
  {
   "cell_type": "markdown",
   "id": "7e968a98-ca46-4bd6-b8a7-78ee98c25d06",
   "metadata": {},
   "source": [
    "# Untar GFS analysis grib2 files for sounding\n",
    "* Grb2 --> Mdv --> Spdb"
   ]
  },
  {
   "cell_type": "code",
   "execution_count": null,
   "id": "068b4e8d-c01f-433b-80d9-f6b665417509",
   "metadata": {},
   "outputs": [],
   "source": [
    "# Grib2Mdv --> Mdv2SoundingSpdb\n",
    "\n",
    "# make directory for grib files in data/sounding\n",
    "!rm -rf ${BASE_DIR}/data/echo/sounding/grib\n",
    "!mkdir ${BASE_DIR}/data/echo/sounding/grib\n",
    "\n",
    "# extract file from tape archive (tar)\n",
    "!tar -xvf ${BASE_DIR}/data/echo/raw/gfsanl_4_2018091418.g2.tar -C ${BASE_DIR}/data/sounding/grib/"
   ]
  },
  {
   "cell_type": "markdown",
   "id": "29782a1b-1291-4cfb-880b-541d6d27a873",
   "metadata": {},
   "source": [
    "- **Grib2toMdv**\n",
    "    - input_dir [line 69] optional, if directory is specified in command line\n",
    "    - write_non_forecast [line 385]\n",
    "    - non_forecast_mdv_url (location of outputted mdv files) [line 395]\n",
    "    - out_projection_info [line 715] Radar location \n",
    "    - out_grid_info [line 749] Subjective box around radar(s)\n",
    "    - height_levels [line 838] Height levels, optional"
   ]
  },
  {
   "cell_type": "code",
   "execution_count": null,
   "id": "edb42f75-af18-4296-a518-2842d6e753d9",
   "metadata": {
    "scrolled": true,
    "tags": []
   },
   "outputs": [],
   "source": [
    "# convert model analysis to Mdv\n",
    "!${LROSE_DIR}/Grib2toMdv -params ${BASE_DIR}/params/echo/Grib2toMdv_params -f ${BASE_DIR}/data/echo/sounding/grib/*.grb2"
   ]
  },
  {
   "cell_type": "markdown",
   "id": "617a84c8-f2db-46da-b26d-1da2e90980d3",
   "metadata": {},
   "source": [
    "- **Mdv2SoundingSpdb**\n",
    "    - input data field names [line 126] \n",
    "    - sampling locations [line 264]\n",
    "        - Need to input location of current radar KMHX\n",
    "    - ouput_url [line 363]"
   ]
  },
  {
   "cell_type": "code",
   "execution_count": null,
   "id": "86fc5b85-2fdb-499a-b4e7-9478af753eba",
   "metadata": {
    "scrolled": true,
    "tags": []
   },
   "outputs": [],
   "source": [
    "# convert Mdv to SoundingSpdb\n",
    "!${LROSE_DIR}/Mdv2SoundingSpdb -params ${BASE_DIR}/params/echo/Mdv2SoundingSpdb_params -f ${BASE_DIR}/data/echo/sounding/mdv/20180914/*.mdv*\n",
    "!${LROSE_DIR}/Mdv2SoundingSpdb -params ${BASE_DIR}/params/echo/Mdv2SoundingSpdb_params -f ${BASE_DIR}/data/echo/sounding/mdv/20180915/*.mdv*"
   ]
  },
  {
   "cell_type": "markdown",
   "id": "8e153385-8a0b-460e-9c54-b1552b834336",
   "metadata": {},
   "source": [
    "- Check sounding data is filled (except vertical velocity and divergence)"
   ]
  },
  {
   "cell_type": "code",
   "execution_count": null,
   "id": "76623098-8926-43ac-b1f0-22c066f69f03",
   "metadata": {
    "scrolled": true,
    "tags": []
   },
   "outputs": [],
   "source": [
    "!${LROSE_DIR}/SpdbQuery -url ${BASE_DIR}/data/echo/sounding/spdb -start \"2018 09 14 00 00 00\" -end \" 2018 09 14 23 00 00\""
   ]
  },
  {
   "cell_type": "markdown",
   "id": "a0ca1ff6-2fc1-4aab-9f56-134b74eccb6c",
   "metadata": {},
   "source": [
    "# Setup steps complete, run RadxRate"
   ]
  },
  {
   "cell_type": "code",
   "execution_count": null,
   "id": "b916ddf3-4e02-4350-ab71-102d40c3105f",
   "metadata": {},
   "outputs": [],
   "source": [
    "!${LROSE_DIR}/RadxRate -params ${BASE_DIR}/params/echo/RadxRate_main_params -f ${BASE_DIR}/data/echo/CfRadial/20180914/*.nc -outdir ${BASE_DIR}/data/echo/rate\n",
    "\n"
   ]
  }
 ],
 "metadata": {
  "kernelspec": {
   "display_name": "Python 3 (ipykernel)",
   "language": "python",
   "name": "python3"
  },
  "language_info": {
   "codemirror_mode": {
    "name": "ipython",
    "version": 3
   },
   "file_extension": ".py",
   "mimetype": "text/x-python",
   "name": "python",
   "nbconvert_exporter": "python",
   "pygments_lexer": "ipython3",
   "version": "3.9.12"
  }
 },
 "nbformat": 4,
 "nbformat_minor": 5
}
