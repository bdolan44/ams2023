{
 "cells": [
  {
   "cell_type": "markdown",
   "id": "de6e774d-3552-4954-97b3-b5ebaf9e5c26",
   "metadata": {},
   "source": [
    "<h1>RadxRate Tutorial</h1>\n",
    "\n",
    "---\n",
    "\n",
    "This interactive tutorial takes you through the steps of how to run RadxRate. RadxRate builds upon the capabilities of RadxKdp and RadxPid by calculating hourly rain rates at each radar gate depending on the local PID category and polarimetric values. It shares parameters files with those two applications. RadxRate will calculate the rain rates with either raw or attenuated-corrected data; the user can choose the option they prefer. The three-dimensional rain rates produced by RadxRate can be then used in RadxQpe to estimate the rain rate closest to the surface, after accounting for beam blockage, noise, and clutter.\n",
    "\n",
    "---\n",
    "\n",
    "*Note: this tutorial is just one type of workflow to use RadxRate. There are several other workflows!*\n",
    "\n",
    "<h2>Overview</h2>\n",
    "\n",
    "\n",
    "**1. Parameter files**\n",
    "* RadxRate main params\n",
    "* RadxRate Kdp_specific params\n",
    "* RadxRate Pid_specific params\n",
    "* RadxRate Rate_specific params\n",
    "* Pid Thresholds params (Radar dependent)\n",
    "* Grib2toMdv params\n",
    "\n",
    "For a list of the parameters that were changed for this notebook, please refer [here](#Parameter-file-modifications)."
   ]
  },
  {
   "cell_type": "markdown",
   "id": "f1171e3c-bdd4-4cd9-8644-752e5cfac5dd",
   "metadata": {},
   "source": [
    "https://stackoverflow.com/questions/19699059/print-directory-file-structure-with-icons-for-representation-in-markdown\n",
    "```\n",
    "BASE_DIR\n",
    "│   RadxRate_tutorial.ipynb\n",
    "│ \n",
    "│\n",
    "└───data\n",
    "│   │   ...\n",
    "│   │   \n",
    "│   │\n",
    "│   │───raw\n",
    "│   │   │   KMHX20180914_191822_V06.ar2v\n",
    "│   │   │   gfsanl_4_2018091418.g2.tar\n",
    "│   │   │   \n",
    "│   │───CfRadial\n",
    "│   │   │   ...\n",
    "│   │   │\n",
    "│   │   │\n",
    "│   │───sounding \n",
    "│   │   │   ...\n",
    "│   │   │\n",
    "│    ───\n",
    "│   \n",
    "└───params\n",
    "│   │   Pid_thresholds.sband.shv.txt\n",
    "│   │   RadxRate_main_params\n",
    "│   │   RadxRate_Kdp_params\n",
    "│   │   RadxRate_Pid_params\n",
    "│   │   RadxRate_rate_params\n",
    "\n"
   ]
  },
  {
   "cell_type": "markdown",
   "id": "e720e2e5-57b5-4879-9d7a-4eb84eab8932",
   "metadata": {},
   "source": [
    "For this tutorial, the parameter files have already been created and populated with the appropriate parameters. However, the default parameter files can be saved using the following commands."
   ]
  },
  {
   "cell_type": "code",
   "execution_count": null,
   "id": "683a61ea-5c97-4552-a6a6-751f3274c88c",
   "metadata": {},
   "outputs": [],
   "source": [
    "# # create original parameter files\n",
    "# !/usr/local/lrose/bin/RadxRate -print_params > /home/jovyan/ams2023/params/user/RadxRate_main_params_user\n",
    "# !/usr/local/lrose/bin/RadxRate -print_params_kdp > /home/jovyan/ams2023/params/user/RadxRate_Kdp_params_user\n",
    "# !/usr/local/lrose/bin/RadxRate -print_params_pid > /home/jovyan/ams2023/params/user/RadxRate_Pid_params_user\n",
    "# !/usr/local/lrose/bin/RadxRate -print_params_rate > /home/jovyan/ams2023/params/user/RadxRate_rate_params_user\n",
    "# !/usr/local/lrose/bin/Grib2toMdv -print_params > /home/jovyan/ams2023/params/user/Grib2toMdv_params_user"
   ]
  },
  {
   "cell_type": "markdown",
   "id": "5ebfa76f",
   "metadata": {},
   "source": [
    "# 1. Set Up\n",
    "## Set up environment and packages"
   ]
  },
  {
   "cell_type": "markdown",
   "id": "edc99a35",
   "metadata": {},
   "source": [
    "First, we import the required python packages to run this notebook. Most of the LROSE processing can be done with the os package and shell commands. At the end we will plot the output using Py-ART."
   ]
  },
  {
   "cell_type": "code",
   "execution_count": null,
   "id": "9118e997-cfa3-429e-98db-7c413388d008",
   "metadata": {},
   "outputs": [],
   "source": [
    "import os\n",
    "import pyart\n",
    "import matplotlib.pyplot as plt\n",
    "import matplotlib.colors as colors\n",
    "import numpy as np"
   ]
  },
  {
   "cell_type": "markdown",
   "id": "cd14072d",
   "metadata": {},
   "source": [
    "Next, we set up the directory structure to simplify our commands. \n",
    "\n",
    "(**note: modify BASE_DIR and LROSE_DIR if your personal machine has different directory structures**)\n",
    "\n",
    "* BASE_DIR: the base directory containing the directories for the notebooks, data, parameter files\n",
    "* RADAR_NAME: the name of the radar used in this tutorial\n",
    "* LROSE_DIR: path to the LROSE installation "
   ]
  },
  {
   "cell_type": "code",
   "execution_count": null,
   "id": "3cf8695a-059b-499b-983f-1827c1de6304",
   "metadata": {},
   "outputs": [],
   "source": [
    "os.environ['BASE_DIR'] = '/home/jovyan/ams2023'\n",
    "os.environ['RADAR_NAME'] = 'KMHX'\n",
    "os.environ['LROSE_DIR'] = '/usr/local/lrose/bin'\n",
    "!echo \"Base directory: \"$BASE_DIR\n",
    "!echo \"Base directory: \"$RADAR_NAME"
   ]
  },
  {
   "cell_type": "markdown",
   "id": "cfc53496-a785-4816-82ac-e7e379d25a50",
   "metadata": {},
   "source": [
    "## Data download and directory organization\n",
    "\n",
    "https://drive.google.com/drive/folders/1nQ1-CUR_OFuSdWgsE-qL35L5rcWTmEh4?usp=share_link\n",
    "\n",
    "We need to set up the required data directories and download the radar data and GFS analysis to the JupyterHub. We delete any existing files and directories specific to this tutorial."
   ]
  },
  {
   "cell_type": "code",
   "execution_count": null,
   "id": "b1f22ecf-9c3b-4ae1-8e5a-aa8c4f954d2c",
   "metadata": {},
   "outputs": [],
   "source": [
    "## make a directory for all the data files in the echo tutorial (raw and analysis)\n",
    "!rm -rf ${BASE_DIR}/data/echo\n",
    "!mkdir ${BASE_DIR}/data/echo\n",
    "\n",
    "## make subdirectory within data for the raw data\n",
    "!rm -rf ${BASE_DIR}/data/echo/raw\n",
    "!mkdir ${BASE_DIR}/data/echo/raw\n",
    "\n",
    "## make subdirectory within data for sounding data\n",
    "!rm -rf ${BASE_DIR}/data/echo/sounding\n",
    "!mkdir ${BASE_DIR}/data/echo/sounding\n",
    "\n",
    "### wget raw files from ftpserver and place in appropriate $BASE_DIR subdirectory\n",
    "# !wget ftpserver/KMHX20180914_191822_V06.ar2v\n",
    "# !wget ftpserver/gfsanl_4_2018091418.g2.tar\n",
    "\n",
    "!wget --load-cookies /tmp/cookies.txt \"https://docs.google.com/uc?export=download&confirm=$(wget --quiet --save-cookies /tmp/cookies.txt --keep-session-cookies --no-check-certificate 'https://docs.google.com/uc?export=download&id=1NT_gA3RPi5PB0PSCh8b8UNm43uc5fQrO' -O- | sed -rn 's/.*confirm=([0-9A-Za-z_]+).*/\\1\\n/p')&id=1NT_gA3RPi5PB0PSCh8b8UNm43uc5fQrO\" -O gfsanl_4_2018091418.g2.tar && rm -rf /tmp/cookies.txt\n",
    "!wget --load-cookies /tmp/cookies.txt \"https://docs.google.com/uc?export=download&confirm=$(wget --quiet --save-cookies /tmp/cookies.txt --keep-session-cookies --no-check-certificate 'https://docs.google.com/uc?export=download&id=10On5qmT4p-Wvm1kpdGjLUHdu0TQyXZDK' -O- | sed -rn 's/.*confirm=([0-9A-Za-z_]+).*/\\1\\n/p')&id=10On5qmT4p-Wvm1kpdGjLUHdu0TQyXZDK\" -O KMHX20180914_191822_V06.ar2v && rm -rf /tmp/cookies.txt\n",
    "\n",
    "## move files to proper directories\n",
    "!mv KMHX20180914_191822_V06.ar2v ${BASE_DIR}/data/echo/raw\n",
    "!mv gfsanl_4_2018091418.g2.tar ${BASE_DIR}/data/echo/raw\n"
   ]
  },
  {
   "cell_type": "markdown",
   "id": "b24e2f0f-fc42-4845-a5dd-50040f5b8c1e",
   "metadata": {
    "tags": []
   },
   "source": [
    "# 2. Prepare data for analysis\n",
    "## Convert Nexrad Level II to CfRadial files"
   ]
  },
  {
   "cell_type": "markdown",
   "id": "6c30b00c",
   "metadata": {},
   "source": [
    "Now that we have the raw radar data, we convert it into CfRadial using RadxConvert so that the other applications can read the data. Here, the *-f* flag provides the path to the raw radar file and the *-outdir* flag tells RadxConvert where the converted file should be written."
   ]
  },
  {
   "cell_type": "code",
   "execution_count": null,
   "id": "2bd3f5af-be73-4c9a-82f6-e41dc7f4f13e",
   "metadata": {
    "tags": []
   },
   "outputs": [],
   "source": [
    "# !rm -rf ${BASE_DIR}/data/echo/CfRadial\n",
    "# !mkdir ${BASE_DIR}/data/echo/CfRadial\n",
    "!${LROSE_DIR}/RadxConvert -f ${BASE_DIR}/data/echo/raw/KMHX20180914_191822_V06.ar2v -outdir ${BASE_DIR}/data/echo/CfRadial\n"
   ]
  },
  {
   "cell_type": "markdown",
   "id": "7e968a98-ca46-4bd6-b8a7-78ee98c25d06",
   "metadata": {},
   "source": [
    "## Untar GFS analysis grib2 files for sounding\n",
    "* Grb2 --> Mdv --> Spdb\n",
    "\n",
    "We use the GFS analysis to obtain a sounding for the PID algorithm. We need to untar the files, convert to a gridded file format (Grib2toMdv), then extract the sounding and store in in the Spdb format (Mdv2SoundingSpdb)."
   ]
  },
  {
   "cell_type": "code",
   "execution_count": null,
   "id": "068b4e8d-c01f-433b-80d9-f6b665417509",
   "metadata": {},
   "outputs": [],
   "source": [
    "# Grib2Mdv --> Mdv2SoundingSpdb\n",
    "\n",
    "# make directory for grib files in data/sounding\n",
    "!rm -rf ${BASE_DIR}/data/echo/sounding/grib\n",
    "!mkdir ${BASE_DIR}/data/echo/sounding/grib\n",
    "\n",
    "# extract file from tape archive (tar)\n",
    "!tar -xvf ${BASE_DIR}/data/echo/raw/gfsanl_4_2018091418.g2.tar -C ${BASE_DIR}/data/echo/sounding/grib/\n"
   ]
  },
  {
   "cell_type": "markdown",
   "id": "29782a1b-1291-4cfb-880b-541d6d27a873",
   "metadata": {},
   "source": [
    "- **Grib2toMdv**\n",
    "    - input_dir [line 69] optional, if directory is specified in command line\n",
    "    - write_non_forecast [line 385]\n",
    "    - non_forecast_mdv_url (location of outputted mdv files) [line 395]\n",
    "    - out_projection_info [line 715] Radar location \n",
    "    - out_grid_info [line 749] Subjective box around radar(s)\n",
    "    - height_levels [line 838] Height levels, optional\n",
    "    \n",
    "Here, the *-params* flag directs Grib2toMdv to the parameter file and *-f* points to the raw GRIB file."
   ]
  },
  {
   "cell_type": "code",
   "execution_count": null,
   "id": "edb42f75-af18-4296-a518-2842d6e753d9",
   "metadata": {
    "scrolled": true,
    "tags": []
   },
   "outputs": [],
   "source": [
    "# convert model analysis to Mdv\n",
    "!${LROSE_DIR}/Grib2toMdv -params ${BASE_DIR}/params/echo/Grib2toMdv_params -f ${BASE_DIR}/data/echo/sounding/grib/*.grb2\n"
   ]
  },
  {
   "cell_type": "markdown",
   "id": "617a84c8-f2db-46da-b26d-1da2e90980d3",
   "metadata": {},
   "source": [
    "- **Mdv2SoundingSpdb**\n",
    "    - input data field names [line 126] \n",
    "    - sampling locations [line 264]\n",
    "        - Need to input location of current radar KMHX\n",
    "    - ouput_url [line 363]\n",
    "    \n",
    "Here, the *-params* flag directs Mdv2SoundingSpdb to the parameter file and *-f* points to the raw GRIB file."
   ]
  },
  {
   "cell_type": "code",
   "execution_count": null,
   "id": "86fc5b85-2fdb-499a-b4e7-9478af753eba",
   "metadata": {
    "scrolled": true,
    "tags": []
   },
   "outputs": [],
   "source": [
    "# convert Mdv to Spdb\n",
    "!${LROSE_DIR}/Mdv2SoundingSpdb -params ${BASE_DIR}/params/echo/Mdv2SoundingSpdb_params -f ${BASE_DIR}/data/echo/sounding/mdv/20180914/*.mdv*\n",
    "!${LROSE_DIR}/Mdv2SoundingSpdb -params ${BASE_DIR}/params/echo/Mdv2SoundingSpdb_params -f ${BASE_DIR}/data/echo/sounding/mdv/20180915/*.mdv*\n"
   ]
  },
  {
   "cell_type": "markdown",
   "id": "8e153385-8a0b-460e-9c54-b1552b834336",
   "metadata": {},
   "source": [
    "We can check the sounding quality using SpdbQuery, which prints out a summary of the sounding data. Here, *-url* indicates the directory where the Spdb files are located and *-start* and *-end* provide the data range over which we want to inspect the sounding information. "
   ]
  },
  {
   "cell_type": "code",
   "execution_count": null,
   "id": "76623098-8926-43ac-b1f0-22c066f69f03",
   "metadata": {
    "scrolled": true,
    "tags": []
   },
   "outputs": [],
   "source": [
    "!${LROSE_DIR}/SpdbQuery -url ${BASE_DIR}/data/echo/sounding/spdb -start \"2018 09 14 00 00 00\" -end \" 2018 09 14 23 00 00\"\n"
   ]
  },
  {
   "cell_type": "markdown",
   "id": "a0ca1ff6-2fc1-4aab-9f56-134b74eccb6c",
   "metadata": {},
   "source": [
    "# 3. Setup steps complete, run RadxRate"
   ]
  },
  {
   "cell_type": "markdown",
   "id": "a0acd67e",
   "metadata": {},
   "source": [
    "With the radar data and point sounding estimates, we can now run RadxRate. RadxRate calculates KDP, runs the PID algorithm, and estimates the three-dimensional rain rate at each gate. \n",
    "\n",
    "Running RadxRate requires one main parameter file on the command line. That parameter file contains  links to the relevant KDP, PID, and rain rate coefficient parameter files. \n",
    "\n",
    "Here, *-params* provides the link to the main RadxRate parameter file, *-f* provides the link to the files we want to process, and *-outdir* indicates where RadxRate should write the final files."
   ]
  },
  {
   "cell_type": "code",
   "execution_count": null,
   "id": "b916ddf3-4e02-4350-ab71-102d40c3105f",
   "metadata": {},
   "outputs": [],
   "source": [
    "!${LROSE_DIR}/RadxRate -params ${BASE_DIR}/params/echo/RadxRate_main_params -f ${BASE_DIR}/data/echo/CfRadial/20180914/*.nc -outdir ${BASE_DIR}/data/echo/rate\n"
   ]
  },
  {
   "cell_type": "markdown",
   "id": "a5e6b9dd",
   "metadata": {},
   "source": [
    "# 4. Plot PID and rate for NEXRAD Morehead City radar (KMHX)"
   ]
  },
  {
   "cell_type": "markdown",
   "id": "ed3cd54b",
   "metadata": {},
   "source": [
    "To visualize the output in the notebook, we can use Py-ART."
   ]
  },
  {
   "cell_type": "code",
   "execution_count": null,
   "id": "21f8399d",
   "metadata": {},
   "outputs": [],
   "source": [
    "# Read CfRadial file into radar object\n",
    "inDir = \"/home/jovyan/ams2023/data/echo/rate/20180914/\"\n",
    "file = \"cfrad.20180914_191822.077_to_20180914_192511.621_KMHX_SUR.nc\"\n",
    "rate_kmhx = pyart.io.read_cfradial(inDir+file)\n",
    "rate_kmhx.info('compact')\n"
   ]
  },
  {
   "cell_type": "markdown",
   "id": "3062b424",
   "metadata": {},
   "source": [
    "We can create a colormap for visualizing PID."
   ]
  },
  {
   "cell_type": "code",
   "execution_count": null,
   "id": "dd207f99",
   "metadata": {},
   "outputs": [],
   "source": [
    "pidmap = np.array([[0.12156862745098039, 0.46666666666666667, 0.70588235294117652, 1.0],\n",
    "              [0.68235294117647061, 0.7803921568627451, 0.90980392156862744, 1.0],\n",
    "              [0.59607843137254901, 0.87450980392156863, 0.54117647058823526, 1.0],\n",
    "              [0.45490196078431372, 0.7686274509803922, 0.46274509803921571, 1.0],\n",
    "              [0.17254901960784313, 0.62745098039215685, 0.17254901960784313, 1.0],\n",
    "              [0.83921568627450982, 0.15294117647058825, 0.15686274509803921, 1.0],\n",
    "              [1.0, 0.59607843137254901, 0.58823529411764708, 1.0],\n",
    "              [1.0, 0.49803921568627452, 0.054901960784313725, 1.0],\n",
    "              [1.0, 0.73333333333333328, 0.47058823529411764, 1.0],\n",
    "              [0.61960784313725492, 0.85490196078431369, 0.89803921568627454, 1.0],\n",
    "              [0.090196078431372548, 0.74509803921568629, 0.81176470588235294, 1.0],\n",
    "              [0.61176470588235299, 0.61960784313725492, 0.87058823529411766, 1.0],\n",
    "              [0.32156862745098042, 0.32941176470588235, 0.63921568627450975, 1.0]],'f')\n",
    "my_cmap2 = colors.ListedColormap(pidmap, name='ncar_pid')\n"
   ]
  },
  {
   "cell_type": "code",
   "execution_count": null,
   "id": "81e490c2",
   "metadata": {},
   "outputs": [],
   "source": [
    "# Plot results of RadxRate\n",
    "\n",
    "displayRate = pyart.graph.RadarDisplay(rate_kmhx)\n",
    "figRate = plt.figure(1, (12, 10))\n",
    "\n",
    "# DBZ (input)\n",
    "\n",
    "axDbz = figRate.add_subplot(221)\n",
    "displayRate.plot_ppi('DBZ', 0, vmin=-32, vmax=64.,\n",
    "                    axislabels=(\"x(km)\", \"y(km)\"),\n",
    "                    colorbar_label=\"DBZ\")\n",
    "displayRate.plot_range_rings([50, 100, 150, 200, 250])\n",
    "displayRate.plot_cross_hair(250.)\n",
    "displayRate.set_limits(xlim=(-300,300),ylim=(-300,300))\n",
    "\n",
    "# KDP (computed)\n",
    "\n",
    "axKdp = figRate.add_subplot(222)\n",
    "displayRate.plot_ppi('KDP', 0, vmin=0, vmax=2.,\n",
    "    axislabels=(\"x(km)\", \"y(km)\"),\n",
    "    colorbar_label=\"KDP (deg/km)\",\n",
    "    cmap=\"nipy_spectral\")\n",
    "displayRate.plot_range_rings([50, 100, 150, 200, 250])\n",
    "displayRate.plot_cross_hair(250.)\n",
    "displayRate.set_limits(xlim=(-300,300),ylim=(-300,300))\n",
    "\n",
    "# RATE_HYBRID (computed)\n",
    "\n",
    "axHybrid = figRate.add_subplot(223)\n",
    "displayRate.plot_ppi('RATE_HYBRID', 0, vmin=0, vmax=50.,\n",
    "    axislabels=(\"x(km)\", \"y(km)\"),\n",
    "    colorbar_label=\"RATE_HYBRID(mm/hr)\",\n",
    "    cmap = \"pyart_RRate11\")\n",
    "displayRate.plot_range_rings([50, 100, 150, 200, 250])\n",
    "displayRate.plot_cross_hair(250.)\n",
    "displayRate.set_limits(xlim=(-300,300),ylim=(-300,300))\n",
    "\n",
    "# NCAR PID (computed)\n",
    "\n",
    "axPID = figRate.add_subplot(224)\n",
    "displayRate.plot_ppi('PID', 0, vmin=0.5, vmax = 13.5,\n",
    "    axislabels=(\"x(km)\", \"y(km)\"),\n",
    "    colorbar_label=\"PID\",\n",
    "    cmap = my_cmap2, mask_outside=True)\n",
    "displayRate.plot_range_rings([50, 100, 150, 200, 250])\n",
    "displayRate.plot_cross_hair(250.)\n",
    "displayRate.set_limits(xlim=(-300,300),ylim=(-300,300))\n",
    "\n",
    "pid_cbar = displayRate.cbs[3]\n",
    "pid_cbar.set_ticks([1,2,3,4,5,6,7,8,9,10,11,12,13])\n",
    "pid_cbar.set_ticklabels(['cld-drops', 'drizzle', 'lt-rain', 'mod-rain', 'hvy-rain', 'hail', 'rain/hail', 'sm-hail', 'gr/rain', 'dry-snow', 'wet-snow', 'ice', 'irreg-ice'])\n",
    "# pid_cbar.set_ticks([1,2,3,4,5,6,7,8,9,10,11,12,13,14,15,16,17])\n",
    "# pid_cbar.set_ticklabels(['cld-drops', 'drizzle', 'lt-rain', 'mod-rain', 'hvy-rain', 'hail', 'rain/hail', 'sm-hail', 'gr/rain', 'dry-snow', 'wet-snow', 'ice', 'irreg-ice', 'slw', 'insects', '2nd-trip', 'clutter'])\n",
    "\n",
    "figRate.tight_layout()\n",
    "\n",
    "plt.show()"
   ]
  },
  {
   "cell_type": "markdown",
   "id": "b9cda6e4",
   "metadata": {},
   "source": [
    "# 5. Extras"
   ]
  },
  {
   "cell_type": "markdown",
   "id": "0bbb52eb",
   "metadata": {},
   "source": [
    "<a id=’Parameter+file+modifications’></a>\n",
    "## **Parameter file modifications**"
   ]
  },
  {
   "cell_type": "markdown",
   "id": "54816a6b",
   "metadata": {},
   "source": [
    "Below is a list of the parameters modified for this tutorial. The line numbers are accurate as of Dec 2022 for the final Topaz release of LROSE. \n",
    "\n",
    "* **RadxRate main params**\n",
    "    * input_dir (radar data) [line 105]\n",
    "    * INPUT FIELD INFORMATION. [line 155]\n",
    "        * SNR_available = TRUE; change to FALSE; [line 177]\n",
    "        * DBZ_field_name = \"DBZ\"; change to \"REF\"; [line 215]\n",
    "        * LDR_available = TRUE; change to FALSE [line 255]\n",
    "    * kdp_params_file_path  [line 284]\n",
    "    * pid_params_file_path  [line 303]\n",
    "    * PID_use_attenuation_corrected_fields = TRUE [line 331]\n",
    "    * RATE_params_file_path [line 350]\n",
    "    * RATE_use_attenuation_corrected_fields = TRUE [line 378]\n",
    "    * output_dir [line 699] -- or set in command line with -outdir flag\n",
    "    * output_format = OUTPUT_FORMAT_CFRADIAL; (Default) [line 755] \n",
    "* **RadxRate Kdp_specific params**\n",
    "    * KDP_fir_filter_len = KDP_FIR_LEN_10; [line 65]\n",
    "    * KDP_psob_method = PEAK_REMOVAL_METHOD; [line 114]\n",
    "* **RadxRate Pid_specific params**\n",
    "    * PID_thresholds_file_path [line 27]\n",
    "    * PID_use_soundings_from_spdb = FALSE; set to TRUE [line 303]\n",
    "    * PID_sounding_spdb_url = \"spdb/soundings\"; [line 313]\n",
    "    * PID_sounding_location_name [line 339]\n",
    "    *  **do sounding steps first before filling Pid variables out**\n",
    "* **RadxRate Rate_specific params**\n",
    "    * RATE_zh_aa [line 154]\n",
    "    * RATE_zh_bb [line 164]\n",
    "    * RATE_zh_aa_snow [line 182]\n",
    "    * RATE_zh_bb_snow [line 192]\n",
    "    * RATE_zzdr_aa [line 210]\n",
    "    * RATE_zzdr_bb [line 220]\n",
    "    * RATE_zzdr_cc [line 230]\n",
    "    * RATE_kdp_aa [line 248]\n",
    "    * RATE_kdp_bb [line 258]\n",
    "    * RATE_kdpzdr_aa [line 277]\n",
    "    * RATE_kdpzdr_bb [line 287]\n",
    "    * RATE_kdpzdr_cc [line 297]\n",
    "* **Pid Thresholds params**\n",
    "    * Radar dependent\n",
    "        * NEXRAD is S-band simultaneous h/v transmission and recieving\n",
    "        * Other parameter files can be found [here](http://wiki.lrose.net/index.php/RadxPid#PID_thresholds_file)\n"
   ]
  },
  {
   "cell_type": "code",
   "execution_count": null,
   "id": "2111d415",
   "metadata": {},
   "outputs": [],
   "source": []
  }
 ],
 "metadata": {
  "kernelspec": {
   "display_name": "Python 3 (ipykernel)",
   "language": "python",
   "name": "python3"
  },
  "language_info": {
   "codemirror_mode": {
    "name": "ipython",
    "version": 3
   },
   "file_extension": ".py",
   "mimetype": "text/x-python",
   "name": "python",
   "nbconvert_exporter": "python",
   "pygments_lexer": "ipython3",
   "version": "3.9.12"
  }
 },
 "nbformat": 4,
 "nbformat_minor": 5
}
